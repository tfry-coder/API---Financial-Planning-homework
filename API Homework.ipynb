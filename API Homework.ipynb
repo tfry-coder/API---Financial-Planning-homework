{
 "cells": [
  {
   "cell_type": "markdown",
   "metadata": {},
   "source": [
    "# Financial Planning"
   ]
  },
  {
   "cell_type": "code",
   "execution_count": 1,
   "metadata": {},
   "outputs": [],
   "source": [
    " # Initial imports\n",
    "import os\n",
    "import requests\n",
    "import pandas as pd\n",
    "from dotenv import load_dotenv\n",
    "import alpaca_trade_api as tradeapi\n",
    "from MCForecastTools import MCSimulation\n",
    "\n",
    "%matplotlib inline"
   ]
  },
  {
   "cell_type": "code",
   "execution_count": 3,
   "metadata": {},
   "outputs": [
    {
     "data": {
      "text/plain": [
       "True"
      ]
     },
     "execution_count": 3,
     "metadata": {},
     "output_type": "execute_result"
    }
   ],
   "source": [
    "# Load .env enviroment variables\n",
    "load_dotenv()"
   ]
  },
  {
   "cell_type": "markdown",
   "metadata": {},
   "source": [
    "**Personal Finance Planner**"
   ]
  },
  {
   "cell_type": "code",
   "execution_count": 2,
   "metadata": {},
   "outputs": [],
   "source": [
    "# Set current amount of crypto assets\n",
    "# YOUR CODE HERE!\n",
    "import os\n",
    "import requests\n",
    "import pandas as pd\n",
    "from dotenv import load_dotenv\n",
    "import alpaca_trade_api as tradeapi\n",
    "from MCForecastTools import MCSimulation\n",
    "%matplotlib inline"
   ]
  },
  {
   "cell_type": "code",
   "execution_count": 3,
   "metadata": {},
   "outputs": [
    {
     "data": {
      "text/plain": [
       "True"
      ]
     },
     "execution_count": 3,
     "metadata": {},
     "output_type": "execute_result"
    }
   ],
   "source": [
    "#load env\n",
    "load_dotenv()"
   ]
  },
  {
   "cell_type": "code",
   "execution_count": 4,
   "metadata": {},
   "outputs": [],
   "source": [
    "my_btc = 1.2\n",
    "my_eth = 5.3"
   ]
  },
  {
   "cell_type": "code",
   "execution_count": 5,
   "metadata": {},
   "outputs": [],
   "source": [
    "# Crypto API URLs\n",
    "btc_url = \"https://api.alternative.me/v2/ticker/Bitcoin/?convert=CAD\"\n",
    "eth_url = \"https://api.alternative.me/v2/ticker/Ethereum/?convert=CAD\""
   ]
  },
  {
   "cell_type": "code",
   "execution_count": 7,
   "metadata": {},
   "outputs": [
    {
     "name": "stdout",
     "output_type": "stream",
     "text": [
      "My Bitcoin balance is $21084.924\n",
      "My Ethereum balance is $2476.743\n"
     ]
    }
   ],
   "source": [
    "# Fetch current BTC price\n",
    "# YOUR CODE HERE!\n",
    "\n",
    "# Fetch current ETH price\n",
    "# YOUR CODE HERE!]\n",
    "\n",
    "# Compute current value of my crpto\n",
    "# YOUR CODE HERE!\n",
    "\n",
    "# Print current crypto wallet balance\n",
    "#print(f\"The current value of your {my_btc} BTC is ${my_btc_value:0.2f}\")\n",
    "#print(f\"The current value of your {my_eth} ETH is ${my_eth_value:0.2f}\")\n",
    "# get prices\n",
    "btc_response = requests.get(btc_url).json()\n",
    "btc_price = btc_response['data']['1']['quotes']['USD']['price']\n",
    "\n",
    "eth_response = requests.get(eth_url).json()\n",
    "eth_price = eth_response['data']['1027']['quotes']['USD']['price']\n",
    "\n",
    "#get current value of \"m cryptons\"\n",
    "my_btc_value = my_btc * btc_price\n",
    "my_eth_value = my_eth * eth_price\n",
    "\n",
    "#print output on cryto wallet\n",
    "print(f\"My Bitcoin balance is ${my_btc_value}\")\n",
    "print(f\"My Ethereum balance is ${my_eth_value}\")\n"
   ]
  },
  {
   "cell_type": "code",
   "execution_count": null,
   "metadata": {},
   "outputs": [],
   "source": []
  },
  {
   "cell_type": "code",
   "execution_count": 9,
   "metadata": {},
   "outputs": [],
   "source": [
    "#The current value of your 1.2 BTC is $14309.16\n",
    "#The current value of your 5.3 ETH is $2096.47"
   ]
  },
  {
   "cell_type": "code",
   "execution_count": null,
   "metadata": {},
   "outputs": [],
   "source": []
  },
  {
   "cell_type": "markdown",
   "metadata": {},
   "source": [
    "**Collect Investments Data Using Alpaca: SPY (stocks) and AGG (bonds)**"
   ]
  },
  {
   "cell_type": "code",
   "execution_count": 9,
   "metadata": {},
   "outputs": [],
   "source": [
    "# Current amount of shares\n",
    "# YOUR CODE HERE!\n",
    " # Set current amount of shares data\n",
    "#assumption : our stocks AMAT and ORCL\n",
    "my_AGG = 200\n",
    "my_SPY = 50"
   ]
  },
  {
   "cell_type": "code",
   "execution_count": 17,
   "metadata": {},
   "outputs": [],
   "source": [
    "# Set Alpaca API key and secret\n",
    "# YOUR CODE HERE!\n",
    "\n",
    "# Create the Alpaca API object\n",
    "# YOUR CODE HERE!\n",
    "# Set Alpaca API key and secret\n",
    "alpaca_api_key = os.getenv(\"ALPACA_API_KEY\")\n",
    "alpaca_secret_key = os.getenv(\"ALPACA_SECRET_KEY\")\n",
    "\n",
    "alpaca = tradeapi.REST(\n",
    "    alpaca_api_key,\n",
    "    alpaca_secret_key,\n",
    "    api_version = \"v2\"\n",
    ")"
   ]
  },
  {
   "cell_type": "code",
   "execution_count": 18,
   "metadata": {},
   "outputs": [
    {
     "name": "stdout",
     "output_type": "stream",
     "text": [
      "Alpaca Key type: <class 'str'>\n",
      "Alpaca Secret Key type: <class 'str'>\n"
     ]
    }
   ],
   "source": [
    "# Verify that Alpaca key and secret were correctly loaded\n",
    "print(f\"Alpaca Key type: {type(alpaca_api_key)}\")\n",
    "print(f\"Alpaca Secret Key type: {type(alpaca_secret_key)}\")"
   ]
  },
  {
   "cell_type": "code",
   "execution_count": 19,
   "metadata": {},
   "outputs": [
    {
     "data": {
      "text/html": [
       "<div>\n",
       "<style scoped>\n",
       "    .dataframe tbody tr th:only-of-type {\n",
       "        vertical-align: middle;\n",
       "    }\n",
       "\n",
       "    .dataframe tbody tr th {\n",
       "        vertical-align: top;\n",
       "    }\n",
       "\n",
       "    .dataframe thead tr th {\n",
       "        text-align: left;\n",
       "    }\n",
       "\n",
       "    .dataframe thead tr:last-of-type th {\n",
       "        text-align: right;\n",
       "    }\n",
       "</style>\n",
       "<table border=\"1\" class=\"dataframe\">\n",
       "  <thead>\n",
       "    <tr>\n",
       "      <th></th>\n",
       "      <th colspan=\"5\" halign=\"left\">AGG</th>\n",
       "      <th colspan=\"5\" halign=\"left\">SPY</th>\n",
       "    </tr>\n",
       "    <tr>\n",
       "      <th></th>\n",
       "      <th>open</th>\n",
       "      <th>high</th>\n",
       "      <th>low</th>\n",
       "      <th>close</th>\n",
       "      <th>volume</th>\n",
       "      <th>open</th>\n",
       "      <th>high</th>\n",
       "      <th>low</th>\n",
       "      <th>close</th>\n",
       "      <th>volume</th>\n",
       "    </tr>\n",
       "    <tr>\n",
       "      <th>time</th>\n",
       "      <th></th>\n",
       "      <th></th>\n",
       "      <th></th>\n",
       "      <th></th>\n",
       "      <th></th>\n",
       "      <th></th>\n",
       "      <th></th>\n",
       "      <th></th>\n",
       "      <th></th>\n",
       "      <th></th>\n",
       "    </tr>\n",
       "  </thead>\n",
       "  <tbody>\n",
       "    <tr>\n",
       "      <th>2020-11-18 00:00:00-05:00</th>\n",
       "      <td>117.95</td>\n",
       "      <td>117.98</td>\n",
       "      <td>117.93</td>\n",
       "      <td>117.95</td>\n",
       "      <td>1042035</td>\n",
       "      <td>360.91</td>\n",
       "      <td>361.33</td>\n",
       "      <td>360.31</td>\n",
       "      <td>361.07</td>\n",
       "      <td>8270926</td>\n",
       "    </tr>\n",
       "  </tbody>\n",
       "</table>\n",
       "</div>"
      ],
      "text/plain": [
       "                              AGG                                      SPY  \\\n",
       "                             open    high     low   close   volume    open   \n",
       "time                                                                         \n",
       "2020-11-18 00:00:00-05:00  117.95  117.98  117.93  117.95  1042035  360.91   \n",
       "\n",
       "                                                            \n",
       "                             high     low   close   volume  \n",
       "time                                                        \n",
       "2020-11-18 00:00:00-05:00  361.33  360.31  361.07  8270926  "
      ]
     },
     "execution_count": 19,
     "metadata": {},
     "output_type": "execute_result"
    }
   ],
   "source": [
    "# Format current date as ISO format\n",
    "# YOUR CODE HERE!\n",
    "from datetime import datetime\n",
    "startdate = datetime.now()\n",
    "\n",
    "#iso format\n",
    "today = pd.Timestamp(startdate, tz=\"America/New_York\").isoformat()\n",
    "\n",
    "#set tickers\n",
    "tickers = ['AGG','SPY']\n",
    "\n",
    "#timeframe\n",
    "timeframe = '1D'\n",
    "\n",
    "#get closing prices\n",
    "df_investments = alpaca.get_barset(tickers, timeframe, start = today).df\n",
    "\n",
    "# take a peek\n",
    "df_investments.head ()"
   ]
  },
  {
   "cell_type": "code",
   "execution_count": null,
   "metadata": {},
   "outputs": [],
   "source": []
  },
  {
   "cell_type": "code",
   "execution_count": 20,
   "metadata": {},
   "outputs": [
    {
     "name": "stdout",
     "output_type": "stream",
     "text": [
      "Current price AGG 117.95\n",
      "Current price SPY 361.07\n"
     ]
    }
   ],
   "source": [
    " # Pick AGG and SPY close prices\n",
    "# YOUR CODE HERE!\n",
    "\n",
    "# Print AGG and SPY close prices\n",
    "#print(f\"Current AGG closing price: ${agg_close_price}\")\n",
    "#print(f\"Current SPY closing price: ${spy_close_price}\")\n",
    "#getting closing prices\n",
    "AGG_close_price = round(df_investments[tickers[0]]['close'][0],2)\n",
    "SPY_close_price = round(df_investments[tickers[1]]['close'][0],2)\n",
    "\n",
    "print(\"Current price AGG\",AGG_close_price)\n",
    "print(\"Current price SPY\",SPY_close_price)\n"
   ]
  },
  {
   "cell_type": "code",
   "execution_count": null,
   "metadata": {},
   "outputs": [],
   "source": [
    "#Current AGG closing price: $119.445\n",
    "#Current SPY closing price: $334.55"
   ]
  },
  {
   "cell_type": "code",
   "execution_count": null,
   "metadata": {},
   "outputs": [],
   "source": []
  },
  {
   "cell_type": "code",
   "execution_count": 22,
   "metadata": {},
   "outputs": [
    {
     "name": "stdout",
     "output_type": "stream",
     "text": [
      "My AGG $23590.0\n",
      "My SPY $18053.5\n"
     ]
    }
   ],
   "source": [
    "# Compute the current value of shares\n",
    "# YOUR CODE HERE!\n",
    "\n",
    "# Print current value of share\n",
    "#print(f\"The current value of your {my_spy} SPY shares is ${my_spy_value:0.2f}\")\n",
    "#print(f\"The current value of your {my_agg} AGG shares is ${my_agg_value:0.2f}\")\n",
    "#computting total value of stocks\n",
    "my_AGG_value = my_AGG * AGG_close_price\n",
    "my_SPY_value = my_SPY * SPY_close_price\n",
    "\n",
    "#print output on stocks\n",
    "print(f\"My AGG ${my_AGG_value}\")\n",
    "print(f\"My SPY ${my_SPY_value}\")"
   ]
  },
  {
   "cell_type": "code",
   "execution_count": 16,
   "metadata": {},
   "outputs": [],
   "source": [
    "#The current value of your 50 SPY shares is $16727.50\n",
    "#The current value of your 200 AGG shares is $23889.00"
   ]
  },
  {
   "cell_type": "code",
   "execution_count": null,
   "metadata": {},
   "outputs": [],
   "source": []
  },
  {
   "cell_type": "markdown",
   "metadata": {},
   "source": [
    "**Savings Health Analysis**"
   ]
  },
  {
   "cell_type": "code",
   "execution_count": 23,
   "metadata": {},
   "outputs": [
    {
     "data": {
      "text/html": [
       "<div>\n",
       "<style scoped>\n",
       "    .dataframe tbody tr th:only-of-type {\n",
       "        vertical-align: middle;\n",
       "    }\n",
       "\n",
       "    .dataframe tbody tr th {\n",
       "        vertical-align: top;\n",
       "    }\n",
       "\n",
       "    .dataframe thead th {\n",
       "        text-align: right;\n",
       "    }\n",
       "</style>\n",
       "<table border=\"1\" class=\"dataframe\">\n",
       "  <thead>\n",
       "    <tr style=\"text-align: right;\">\n",
       "      <th></th>\n",
       "      <th>amount</th>\n",
       "    </tr>\n",
       "  </thead>\n",
       "  <tbody>\n",
       "    <tr>\n",
       "      <th>crypto</th>\n",
       "      <td>23561.667</td>\n",
       "    </tr>\n",
       "    <tr>\n",
       "      <th>shares</th>\n",
       "      <td>41643.500</td>\n",
       "    </tr>\n",
       "  </tbody>\n",
       "</table>\n",
       "</div>"
      ],
      "text/plain": [
       "           amount\n",
       "crypto  23561.667\n",
       "shares  41643.500"
      ]
     },
     "execution_count": 23,
     "metadata": {},
     "output_type": "execute_result"
    }
   ],
   "source": [
    "# Set monthly household income\n",
    "monthly_income = 12000\n",
    "\n",
    "# Create savings DataFrame\n",
    "savings_data = [\n",
    "    my_btc_value+my_eth_value,\n",
    "    my_AGG_value+my_SPY_value\n",
    "]\n",
    "\n",
    "# Display savings DataFrame\n",
    "df_savings = pd.DataFrame(savings_data, columns=['amount'],index=['crypto','shares'])\n",
    "\n",
    "df_savings"
   ]
  },
  {
   "cell_type": "code",
   "execution_count": 24,
   "metadata": {},
   "outputs": [
    {
     "data": {
      "image/png": "[encoded data removed]",
      "text/plain": [
       "<Figure size 432x288 with 1 Axes>"
      ]
     },
     "metadata": {},
     "output_type": "display_data"
    }
   ],
   "source": [
    "# Plot savings pie chart\n",
    "df_savings.plot.pie(y='amount',title='Personal Savings');"
   ]
  },
  {
   "cell_type": "code",
   "execution_count": 27,
   "metadata": {},
   "outputs": [
    {
     "name": "stdout",
     "output_type": "stream",
     "text": [
      "Congratulations!  You have enough money in your emergency fund.\n"
     ]
    }
   ],
   "source": [
    " # Set ideal emergency fund\n",
    "#emergency_fund = monthly_income * 3\n",
    "emergency_fund = monthly_income * 3\n",
    "\n",
    "# Calculate total amount of savings\n",
    "total_savings = float(df_savings.sum())\n",
    "\n",
    "# Validate saving health\n",
    "if total_savings > emergency_fund:\n",
    "    print(\"Congratulations!  You have enough money in your emergency fund.\")\n",
    "elif total_savings == emergency_fund:\n",
    "    print(\"You have exactly 3 months saved up\")\n",
    "else:\n",
    "    print(\"You need \"+str(emergency_fund-total_savings)+\" to save more!\")"
   ]
  },
  {
   "cell_type": "code",
   "execution_count": 20,
   "metadata": {},
   "outputs": [],
   "source": [
    "#Congratulations! You have enough money in your emergency fund."
   ]
  },
  {
   "cell_type": "markdown",
   "metadata": {},
   "source": [
    "**Part 2 - Retirement Planning (Monte Carlo Simulation)**"
   ]
  },
  {
   "cell_type": "code",
   "execution_count": 36,
   "metadata": {},
   "outputs": [],
   "source": [
    "# Set start and end dates of five years back from today.\n",
    "# Sample results may vary from the solution based on the time frame chosen\n",
    "start_date = pd.Timestamp('2015-11-18', tz='America/New_York').isoformat()\n",
    "end_date = pd.Timestamp('2020-11-18', tz='America/New_York').isoformat()"
   ]
  },
  {
   "cell_type": "code",
   "execution_count": 37,
   "metadata": {},
   "outputs": [
    {
     "data": {
      "text/html": [
       "<div>\n",
       "<style scoped>\n",
       "    .dataframe tbody tr th:only-of-type {\n",
       "        vertical-align: middle;\n",
       "    }\n",
       "\n",
       "    .dataframe tbody tr th {\n",
       "        vertical-align: top;\n",
       "    }\n",
       "\n",
       "    .dataframe thead tr th {\n",
       "        text-align: left;\n",
       "    }\n",
       "\n",
       "    .dataframe thead tr:last-of-type th {\n",
       "        text-align: right;\n",
       "    }\n",
       "</style>\n",
       "<table border=\"1\" class=\"dataframe\">\n",
       "  <thead>\n",
       "    <tr>\n",
       "      <th></th>\n",
       "      <th colspan=\"5\" halign=\"left\">AGG</th>\n",
       "      <th colspan=\"5\" halign=\"left\">SPY</th>\n",
       "    </tr>\n",
       "    <tr>\n",
       "      <th></th>\n",
       "      <th>open</th>\n",
       "      <th>high</th>\n",
       "      <th>low</th>\n",
       "      <th>close</th>\n",
       "      <th>volume</th>\n",
       "      <th>open</th>\n",
       "      <th>high</th>\n",
       "      <th>low</th>\n",
       "      <th>close</th>\n",
       "      <th>volume</th>\n",
       "    </tr>\n",
       "    <tr>\n",
       "      <th>time</th>\n",
       "      <th></th>\n",
       "      <th></th>\n",
       "      <th></th>\n",
       "      <th></th>\n",
       "      <th></th>\n",
       "      <th></th>\n",
       "      <th></th>\n",
       "      <th></th>\n",
       "      <th></th>\n",
       "      <th></th>\n",
       "    </tr>\n",
       "  </thead>\n",
       "  <tbody>\n",
       "    <tr>\n",
       "      <th>2015-11-18 00:00:00-05:00</th>\n",
       "      <td>108.65</td>\n",
       "      <td>108.71</td>\n",
       "      <td>108.5400</td>\n",
       "      <td>108.62</td>\n",
       "      <td>1824597</td>\n",
       "      <td>206.04</td>\n",
       "      <td>208.90</td>\n",
       "      <td>205.99</td>\n",
       "      <td>208.71</td>\n",
       "      <td>94448031</td>\n",
       "    </tr>\n",
       "    <tr>\n",
       "      <th>2015-11-19 00:00:00-05:00</th>\n",
       "      <td>108.76</td>\n",
       "      <td>108.90</td>\n",
       "      <td>108.6800</td>\n",
       "      <td>108.68</td>\n",
       "      <td>2655263</td>\n",
       "      <td>208.59</td>\n",
       "      <td>209.05</td>\n",
       "      <td>208.20</td>\n",
       "      <td>208.53</td>\n",
       "      <td>61897641</td>\n",
       "    </tr>\n",
       "    <tr>\n",
       "      <th>2015-11-20 00:00:00-05:00</th>\n",
       "      <td>108.77</td>\n",
       "      <td>108.82</td>\n",
       "      <td>108.6000</td>\n",
       "      <td>108.62</td>\n",
       "      <td>1893587</td>\n",
       "      <td>209.45</td>\n",
       "      <td>210.12</td>\n",
       "      <td>208.86</td>\n",
       "      <td>209.35</td>\n",
       "      <td>67021762</td>\n",
       "    </tr>\n",
       "    <tr>\n",
       "      <th>2015-11-23 00:00:00-05:00</th>\n",
       "      <td>108.65</td>\n",
       "      <td>108.76</td>\n",
       "      <td>108.5700</td>\n",
       "      <td>108.68</td>\n",
       "      <td>1595639</td>\n",
       "      <td>209.38</td>\n",
       "      <td>209.98</td>\n",
       "      <td>208.52</td>\n",
       "      <td>209.06</td>\n",
       "      <td>54738608</td>\n",
       "    </tr>\n",
       "    <tr>\n",
       "      <th>2015-11-24 00:00:00-05:00</th>\n",
       "      <td>108.75</td>\n",
       "      <td>108.80</td>\n",
       "      <td>108.6611</td>\n",
       "      <td>108.73</td>\n",
       "      <td>1153821</td>\n",
       "      <td>207.87</td>\n",
       "      <td>209.83</td>\n",
       "      <td>207.41</td>\n",
       "      <td>209.38</td>\n",
       "      <td>81748691</td>\n",
       "    </tr>\n",
       "  </tbody>\n",
       "</table>\n",
       "</div>"
      ],
      "text/plain": [
       "                              AGG                                        SPY  \\\n",
       "                             open    high       low   close   volume    open   \n",
       "time                                                                           \n",
       "2015-11-18 00:00:00-05:00  108.65  108.71  108.5400  108.62  1824597  206.04   \n",
       "2015-11-19 00:00:00-05:00  108.76  108.90  108.6800  108.68  2655263  208.59   \n",
       "2015-11-20 00:00:00-05:00  108.77  108.82  108.6000  108.62  1893587  209.45   \n",
       "2015-11-23 00:00:00-05:00  108.65  108.76  108.5700  108.68  1595639  209.38   \n",
       "2015-11-24 00:00:00-05:00  108.75  108.80  108.6611  108.73  1153821  207.87   \n",
       "\n",
       "                                                             \n",
       "                             high     low   close    volume  \n",
       "time                                                         \n",
       "2015-11-18 00:00:00-05:00  208.90  205.99  208.71  94448031  \n",
       "2015-11-19 00:00:00-05:00  209.05  208.20  208.53  61897641  \n",
       "2015-11-20 00:00:00-05:00  210.12  208.86  209.35  67021762  \n",
       "2015-11-23 00:00:00-05:00  209.98  208.52  209.06  54738608  \n",
       "2015-11-24 00:00:00-05:00  209.83  207.41  209.38  81748691  "
      ]
     },
     "execution_count": 37,
     "metadata": {},
     "output_type": "execute_result"
    }
   ],
   "source": [
    "# Get 5 years' worth of historical data for SPY and AGG\n",
    "df_stock_data = alpaca.get_barset(\n",
    "    tickers, \n",
    "    timeframe,\n",
    "    start = start_date,\n",
    "    end = end_date\n",
    ").df\n",
    "# Display sample data\n",
    "df_stock_data.head()\n",
    "#df_stock_data.head()"
   ]
  },
  {
   "cell_type": "code",
   "execution_count": 38,
   "metadata": {},
   "outputs": [],
   "source": [
    "# Configuring a Monte Carlo simulation to forecast 30 years cumulative returns\n",
    "MC_thirty_year = MCSimulation(\n",
    "    portfolio_data = df_stock_data,\n",
    "    weights = [.60,.40],\n",
    "    num_simulation = 500,\n",
    "    num_trading_days = 252*30\n",
    ")"
   ]
  },
  {
   "cell_type": "code",
   "execution_count": 39,
   "metadata": {},
   "outputs": [
    {
     "data": {
      "text/html": [
       "<div>\n",
       "<style scoped>\n",
       "    .dataframe tbody tr th:only-of-type {\n",
       "        vertical-align: middle;\n",
       "    }\n",
       "\n",
       "    .dataframe tbody tr th {\n",
       "        vertical-align: top;\n",
       "    }\n",
       "\n",
       "    .dataframe thead tr th {\n",
       "        text-align: left;\n",
       "    }\n",
       "\n",
       "    .dataframe thead tr:last-of-type th {\n",
       "        text-align: right;\n",
       "    }\n",
       "</style>\n",
       "<table border=\"1\" class=\"dataframe\">\n",
       "  <thead>\n",
       "    <tr>\n",
       "      <th></th>\n",
       "      <th colspan=\"6\" halign=\"left\">AGG</th>\n",
       "      <th colspan=\"6\" halign=\"left\">SPY</th>\n",
       "    </tr>\n",
       "    <tr>\n",
       "      <th></th>\n",
       "      <th>open</th>\n",
       "      <th>high</th>\n",
       "      <th>low</th>\n",
       "      <th>close</th>\n",
       "      <th>volume</th>\n",
       "      <th>daily_return</th>\n",
       "      <th>open</th>\n",
       "      <th>high</th>\n",
       "      <th>low</th>\n",
       "      <th>close</th>\n",
       "      <th>volume</th>\n",
       "      <th>daily_return</th>\n",
       "    </tr>\n",
       "    <tr>\n",
       "      <th>time</th>\n",
       "      <th></th>\n",
       "      <th></th>\n",
       "      <th></th>\n",
       "      <th></th>\n",
       "      <th></th>\n",
       "      <th></th>\n",
       "      <th></th>\n",
       "      <th></th>\n",
       "      <th></th>\n",
       "      <th></th>\n",
       "      <th></th>\n",
       "      <th></th>\n",
       "    </tr>\n",
       "  </thead>\n",
       "  <tbody>\n",
       "    <tr>\n",
       "      <th>2015-11-18 00:00:00-05:00</th>\n",
       "      <td>108.65</td>\n",
       "      <td>108.71</td>\n",
       "      <td>108.5400</td>\n",
       "      <td>108.62</td>\n",
       "      <td>1824597</td>\n",
       "      <td>NaN</td>\n",
       "      <td>206.04</td>\n",
       "      <td>208.90</td>\n",
       "      <td>205.99</td>\n",
       "      <td>208.71</td>\n",
       "      <td>94448031</td>\n",
       "      <td>NaN</td>\n",
       "    </tr>\n",
       "    <tr>\n",
       "      <th>2015-11-19 00:00:00-05:00</th>\n",
       "      <td>108.76</td>\n",
       "      <td>108.90</td>\n",
       "      <td>108.6800</td>\n",
       "      <td>108.68</td>\n",
       "      <td>2655263</td>\n",
       "      <td>0.000552</td>\n",
       "      <td>208.59</td>\n",
       "      <td>209.05</td>\n",
       "      <td>208.20</td>\n",
       "      <td>208.53</td>\n",
       "      <td>61897641</td>\n",
       "      <td>-0.000862</td>\n",
       "    </tr>\n",
       "    <tr>\n",
       "      <th>2015-11-20 00:00:00-05:00</th>\n",
       "      <td>108.77</td>\n",
       "      <td>108.82</td>\n",
       "      <td>108.6000</td>\n",
       "      <td>108.62</td>\n",
       "      <td>1893587</td>\n",
       "      <td>-0.000552</td>\n",
       "      <td>209.45</td>\n",
       "      <td>210.12</td>\n",
       "      <td>208.86</td>\n",
       "      <td>209.35</td>\n",
       "      <td>67021762</td>\n",
       "      <td>0.003932</td>\n",
       "    </tr>\n",
       "    <tr>\n",
       "      <th>2015-11-23 00:00:00-05:00</th>\n",
       "      <td>108.65</td>\n",
       "      <td>108.76</td>\n",
       "      <td>108.5700</td>\n",
       "      <td>108.68</td>\n",
       "      <td>1595639</td>\n",
       "      <td>0.000552</td>\n",
       "      <td>209.38</td>\n",
       "      <td>209.98</td>\n",
       "      <td>208.52</td>\n",
       "      <td>209.06</td>\n",
       "      <td>54738608</td>\n",
       "      <td>-0.001385</td>\n",
       "    </tr>\n",
       "    <tr>\n",
       "      <th>2015-11-24 00:00:00-05:00</th>\n",
       "      <td>108.75</td>\n",
       "      <td>108.80</td>\n",
       "      <td>108.6611</td>\n",
       "      <td>108.73</td>\n",
       "      <td>1153821</td>\n",
       "      <td>0.000460</td>\n",
       "      <td>207.87</td>\n",
       "      <td>209.83</td>\n",
       "      <td>207.41</td>\n",
       "      <td>209.38</td>\n",
       "      <td>81748691</td>\n",
       "      <td>0.001531</td>\n",
       "    </tr>\n",
       "  </tbody>\n",
       "</table>\n",
       "</div>"
      ],
      "text/plain": [
       "                              AGG                                     \\\n",
       "                             open    high       low   close   volume   \n",
       "time                                                                   \n",
       "2015-11-18 00:00:00-05:00  108.65  108.71  108.5400  108.62  1824597   \n",
       "2015-11-19 00:00:00-05:00  108.76  108.90  108.6800  108.68  2655263   \n",
       "2015-11-20 00:00:00-05:00  108.77  108.82  108.6000  108.62  1893587   \n",
       "2015-11-23 00:00:00-05:00  108.65  108.76  108.5700  108.68  1595639   \n",
       "2015-11-24 00:00:00-05:00  108.75  108.80  108.6611  108.73  1153821   \n",
       "\n",
       "                                           SPY                          \\\n",
       "                          daily_return    open    high     low   close   \n",
       "time                                                                     \n",
       "2015-11-18 00:00:00-05:00          NaN  206.04  208.90  205.99  208.71   \n",
       "2015-11-19 00:00:00-05:00     0.000552  208.59  209.05  208.20  208.53   \n",
       "2015-11-20 00:00:00-05:00    -0.000552  209.45  210.12  208.86  209.35   \n",
       "2015-11-23 00:00:00-05:00     0.000552  209.38  209.98  208.52  209.06   \n",
       "2015-11-24 00:00:00-05:00     0.000460  207.87  209.83  207.41  209.38   \n",
       "\n",
       "                                                  \n",
       "                             volume daily_return  \n",
       "time                                              \n",
       "2015-11-18 00:00:00-05:00  94448031          NaN  \n",
       "2015-11-19 00:00:00-05:00  61897641    -0.000862  \n",
       "2015-11-20 00:00:00-05:00  67021762     0.003932  \n",
       "2015-11-23 00:00:00-05:00  54738608    -0.001385  \n",
       "2015-11-24 00:00:00-05:00  81748691     0.001531  "
      ]
     },
     "execution_count": 39,
     "metadata": {},
     "output_type": "execute_result"
    }
   ],
   "source": [
    " # Printing the simulation input data\n",
    "MC_thirty_year.portfolio_data.head()"
   ]
  },
  {
   "cell_type": "code",
   "execution_count": 40,
   "metadata": {},
   "outputs": [
    {
     "name": "stdout",
     "output_type": "stream",
     "text": [
      "Running Monte Carlo simulation number 0.\n",
      "Running Monte Carlo simulation number 10.\n",
      "Running Monte Carlo simulation number 20.\n",
      "Running Monte Carlo simulation number 30.\n",
      "Running Monte Carlo simulation number 40.\n",
      "Running Monte Carlo simulation number 50.\n",
      "Running Monte Carlo simulation number 60.\n",
      "Running Monte Carlo simulation number 70.\n",
      "Running Monte Carlo simulation number 80.\n",
      "Running Monte Carlo simulation number 90.\n",
      "Running Monte Carlo simulation number 100.\n",
      "Running Monte Carlo simulation number 110.\n",
      "Running Monte Carlo simulation number 120.\n",
      "Running Monte Carlo simulation number 130.\n",
      "Running Monte Carlo simulation number 140.\n",
      "Running Monte Carlo simulation number 150.\n",
      "Running Monte Carlo simulation number 160.\n",
      "Running Monte Carlo simulation number 170.\n",
      "Running Monte Carlo simulation number 180.\n",
      "Running Monte Carlo simulation number 190.\n",
      "Running Monte Carlo simulation number 200.\n",
      "Running Monte Carlo simulation number 210.\n",
      "Running Monte Carlo simulation number 220.\n",
      "Running Monte Carlo simulation number 230.\n",
      "Running Monte Carlo simulation number 240.\n",
      "Running Monte Carlo simulation number 250.\n",
      "Running Monte Carlo simulation number 260.\n",
      "Running Monte Carlo simulation number 270.\n",
      "Running Monte Carlo simulation number 280.\n",
      "Running Monte Carlo simulation number 290.\n",
      "Running Monte Carlo simulation number 300.\n",
      "Running Monte Carlo simulation number 310.\n",
      "Running Monte Carlo simulation number 320.\n",
      "Running Monte Carlo simulation number 330.\n",
      "Running Monte Carlo simulation number 340.\n",
      "Running Monte Carlo simulation number 350.\n",
      "Running Monte Carlo simulation number 360.\n",
      "Running Monte Carlo simulation number 370.\n",
      "Running Monte Carlo simulation number 380.\n",
      "Running Monte Carlo simulation number 390.\n",
      "Running Monte Carlo simulation number 400.\n",
      "Running Monte Carlo simulation number 410.\n",
      "Running Monte Carlo simulation number 420.\n",
      "Running Monte Carlo simulation number 430.\n",
      "Running Monte Carlo simulation number 440.\n",
      "Running Monte Carlo simulation number 450.\n",
      "Running Monte Carlo simulation number 460.\n",
      "Running Monte Carlo simulation number 470.\n",
      "Running Monte Carlo simulation number 480.\n",
      "Running Monte Carlo simulation number 490.\n"
     ]
    },
    {
     "data": {
      "text/html": [
       "<div>\n",
       "<style scoped>\n",
       "    .dataframe tbody tr th:only-of-type {\n",
       "        vertical-align: middle;\n",
       "    }\n",
       "\n",
       "    .dataframe tbody tr th {\n",
       "        vertical-align: top;\n",
       "    }\n",
       "\n",
       "    .dataframe thead th {\n",
       "        text-align: right;\n",
       "    }\n",
       "</style>\n",
       "<table border=\"1\" class=\"dataframe\">\n",
       "  <thead>\n",
       "    <tr style=\"text-align: right;\">\n",
       "      <th></th>\n",
       "      <th>0</th>\n",
       "      <th>1</th>\n",
       "      <th>2</th>\n",
       "      <th>3</th>\n",
       "      <th>4</th>\n",
       "      <th>5</th>\n",
       "      <th>6</th>\n",
       "      <th>7</th>\n",
       "      <th>8</th>\n",
       "      <th>9</th>\n",
       "      <th>...</th>\n",
       "      <th>490</th>\n",
       "      <th>491</th>\n",
       "      <th>492</th>\n",
       "      <th>493</th>\n",
       "      <th>494</th>\n",
       "      <th>495</th>\n",
       "      <th>496</th>\n",
       "      <th>497</th>\n",
       "      <th>498</th>\n",
       "      <th>499</th>\n",
       "    </tr>\n",
       "  </thead>\n",
       "  <tbody>\n",
       "    <tr>\n",
       "      <th>0</th>\n",
       "      <td>1.000000</td>\n",
       "      <td>1.000000</td>\n",
       "      <td>1.000000</td>\n",
       "      <td>1.000000</td>\n",
       "      <td>1.000000</td>\n",
       "      <td>1.000000</td>\n",
       "      <td>1.000000</td>\n",
       "      <td>1.000000</td>\n",
       "      <td>1.000000</td>\n",
       "      <td>1.000000</td>\n",
       "      <td>...</td>\n",
       "      <td>1.000000</td>\n",
       "      <td>1.000000</td>\n",
       "      <td>1.000000</td>\n",
       "      <td>1.000000</td>\n",
       "      <td>1.000000</td>\n",
       "      <td>1.000000</td>\n",
       "      <td>1.000000</td>\n",
       "      <td>1.000000</td>\n",
       "      <td>1.000000</td>\n",
       "      <td>1.000000</td>\n",
       "    </tr>\n",
       "    <tr>\n",
       "      <th>1</th>\n",
       "      <td>1.002693</td>\n",
       "      <td>0.995259</td>\n",
       "      <td>0.995053</td>\n",
       "      <td>1.001998</td>\n",
       "      <td>0.999592</td>\n",
       "      <td>1.000082</td>\n",
       "      <td>1.009226</td>\n",
       "      <td>0.999235</td>\n",
       "      <td>0.996346</td>\n",
       "      <td>0.998942</td>\n",
       "      <td>...</td>\n",
       "      <td>1.001552</td>\n",
       "      <td>0.993374</td>\n",
       "      <td>1.009673</td>\n",
       "      <td>1.005424</td>\n",
       "      <td>1.005271</td>\n",
       "      <td>0.990707</td>\n",
       "      <td>1.000078</td>\n",
       "      <td>0.995202</td>\n",
       "      <td>0.996973</td>\n",
       "      <td>0.998766</td>\n",
       "    </tr>\n",
       "    <tr>\n",
       "      <th>2</th>\n",
       "      <td>1.005478</td>\n",
       "      <td>0.996557</td>\n",
       "      <td>0.994119</td>\n",
       "      <td>1.006934</td>\n",
       "      <td>1.003262</td>\n",
       "      <td>0.994200</td>\n",
       "      <td>1.008707</td>\n",
       "      <td>0.993178</td>\n",
       "      <td>0.997941</td>\n",
       "      <td>0.996041</td>\n",
       "      <td>...</td>\n",
       "      <td>1.002449</td>\n",
       "      <td>0.994289</td>\n",
       "      <td>1.008835</td>\n",
       "      <td>1.006994</td>\n",
       "      <td>1.010418</td>\n",
       "      <td>0.987969</td>\n",
       "      <td>1.008199</td>\n",
       "      <td>1.000435</td>\n",
       "      <td>0.992349</td>\n",
       "      <td>0.998018</td>\n",
       "    </tr>\n",
       "    <tr>\n",
       "      <th>3</th>\n",
       "      <td>0.991103</td>\n",
       "      <td>0.991408</td>\n",
       "      <td>1.002836</td>\n",
       "      <td>1.009388</td>\n",
       "      <td>1.014238</td>\n",
       "      <td>0.984600</td>\n",
       "      <td>1.012708</td>\n",
       "      <td>0.997156</td>\n",
       "      <td>0.993579</td>\n",
       "      <td>0.986846</td>\n",
       "      <td>...</td>\n",
       "      <td>0.997499</td>\n",
       "      <td>1.004630</td>\n",
       "      <td>1.017442</td>\n",
       "      <td>0.995784</td>\n",
       "      <td>1.012225</td>\n",
       "      <td>0.990383</td>\n",
       "      <td>1.011500</td>\n",
       "      <td>1.003472</td>\n",
       "      <td>0.992890</td>\n",
       "      <td>0.996420</td>\n",
       "    </tr>\n",
       "    <tr>\n",
       "      <th>4</th>\n",
       "      <td>0.984288</td>\n",
       "      <td>0.991032</td>\n",
       "      <td>0.996530</td>\n",
       "      <td>1.010408</td>\n",
       "      <td>1.008896</td>\n",
       "      <td>0.984051</td>\n",
       "      <td>1.012397</td>\n",
       "      <td>1.000493</td>\n",
       "      <td>0.999120</td>\n",
       "      <td>0.985820</td>\n",
       "      <td>...</td>\n",
       "      <td>1.000402</td>\n",
       "      <td>1.002921</td>\n",
       "      <td>1.016639</td>\n",
       "      <td>0.997211</td>\n",
       "      <td>1.001933</td>\n",
       "      <td>0.991450</td>\n",
       "      <td>1.010379</td>\n",
       "      <td>0.993249</td>\n",
       "      <td>0.992037</td>\n",
       "      <td>0.993842</td>\n",
       "    </tr>\n",
       "    <tr>\n",
       "      <th>...</th>\n",
       "      <td>...</td>\n",
       "      <td>...</td>\n",
       "      <td>...</td>\n",
       "      <td>...</td>\n",
       "      <td>...</td>\n",
       "      <td>...</td>\n",
       "      <td>...</td>\n",
       "      <td>...</td>\n",
       "      <td>...</td>\n",
       "      <td>...</td>\n",
       "      <td>...</td>\n",
       "      <td>...</td>\n",
       "      <td>...</td>\n",
       "      <td>...</td>\n",
       "      <td>...</td>\n",
       "      <td>...</td>\n",
       "      <td>...</td>\n",
       "      <td>...</td>\n",
       "      <td>...</td>\n",
       "      <td>...</td>\n",
       "      <td>...</td>\n",
       "    </tr>\n",
       "    <tr>\n",
       "      <th>7556</th>\n",
       "      <td>4.226777</td>\n",
       "      <td>3.651457</td>\n",
       "      <td>5.506741</td>\n",
       "      <td>6.298520</td>\n",
       "      <td>7.271540</td>\n",
       "      <td>4.186647</td>\n",
       "      <td>4.799166</td>\n",
       "      <td>4.780869</td>\n",
       "      <td>2.907621</td>\n",
       "      <td>5.368098</td>\n",
       "      <td>...</td>\n",
       "      <td>7.096032</td>\n",
       "      <td>13.046577</td>\n",
       "      <td>8.408005</td>\n",
       "      <td>5.291295</td>\n",
       "      <td>6.052577</td>\n",
       "      <td>1.788252</td>\n",
       "      <td>6.308790</td>\n",
       "      <td>4.652346</td>\n",
       "      <td>6.785253</td>\n",
       "      <td>5.456171</td>\n",
       "    </tr>\n",
       "    <tr>\n",
       "      <th>7557</th>\n",
       "      <td>4.253590</td>\n",
       "      <td>3.620594</td>\n",
       "      <td>5.529678</td>\n",
       "      <td>6.307483</td>\n",
       "      <td>7.297554</td>\n",
       "      <td>4.171720</td>\n",
       "      <td>4.772811</td>\n",
       "      <td>4.804238</td>\n",
       "      <td>2.921332</td>\n",
       "      <td>5.426379</td>\n",
       "      <td>...</td>\n",
       "      <td>7.088399</td>\n",
       "      <td>13.097993</td>\n",
       "      <td>8.379444</td>\n",
       "      <td>5.286849</td>\n",
       "      <td>6.085011</td>\n",
       "      <td>1.796401</td>\n",
       "      <td>6.277483</td>\n",
       "      <td>4.652605</td>\n",
       "      <td>6.835986</td>\n",
       "      <td>5.527402</td>\n",
       "    </tr>\n",
       "    <tr>\n",
       "      <th>7558</th>\n",
       "      <td>4.275242</td>\n",
       "      <td>3.622953</td>\n",
       "      <td>5.502375</td>\n",
       "      <td>6.343242</td>\n",
       "      <td>7.295104</td>\n",
       "      <td>4.205604</td>\n",
       "      <td>4.775068</td>\n",
       "      <td>4.779591</td>\n",
       "      <td>2.915736</td>\n",
       "      <td>5.428908</td>\n",
       "      <td>...</td>\n",
       "      <td>7.013882</td>\n",
       "      <td>13.063104</td>\n",
       "      <td>8.356144</td>\n",
       "      <td>5.250371</td>\n",
       "      <td>6.074594</td>\n",
       "      <td>1.793015</td>\n",
       "      <td>6.258987</td>\n",
       "      <td>4.637940</td>\n",
       "      <td>6.858978</td>\n",
       "      <td>5.496066</td>\n",
       "    </tr>\n",
       "    <tr>\n",
       "      <th>7559</th>\n",
       "      <td>4.266776</td>\n",
       "      <td>3.649066</td>\n",
       "      <td>5.523927</td>\n",
       "      <td>6.319514</td>\n",
       "      <td>7.314597</td>\n",
       "      <td>4.191636</td>\n",
       "      <td>4.790948</td>\n",
       "      <td>4.786187</td>\n",
       "      <td>2.925902</td>\n",
       "      <td>5.426575</td>\n",
       "      <td>...</td>\n",
       "      <td>7.045326</td>\n",
       "      <td>13.000013</td>\n",
       "      <td>8.302826</td>\n",
       "      <td>5.298735</td>\n",
       "      <td>6.100330</td>\n",
       "      <td>1.791401</td>\n",
       "      <td>6.239437</td>\n",
       "      <td>4.624245</td>\n",
       "      <td>6.849095</td>\n",
       "      <td>5.526802</td>\n",
       "    </tr>\n",
       "    <tr>\n",
       "      <th>7560</th>\n",
       "      <td>4.276819</td>\n",
       "      <td>3.656218</td>\n",
       "      <td>5.534875</td>\n",
       "      <td>6.380472</td>\n",
       "      <td>7.306621</td>\n",
       "      <td>4.195999</td>\n",
       "      <td>4.787723</td>\n",
       "      <td>4.777265</td>\n",
       "      <td>2.945111</td>\n",
       "      <td>5.396490</td>\n",
       "      <td>...</td>\n",
       "      <td>7.027150</td>\n",
       "      <td>13.008822</td>\n",
       "      <td>8.279062</td>\n",
       "      <td>5.303537</td>\n",
       "      <td>6.110356</td>\n",
       "      <td>1.789716</td>\n",
       "      <td>6.276914</td>\n",
       "      <td>4.647491</td>\n",
       "      <td>6.869979</td>\n",
       "      <td>5.507155</td>\n",
       "    </tr>\n",
       "  </tbody>\n",
       "</table>\n",
       "<p>7561 rows × 500 columns</p>\n",
       "</div>"
      ],
      "text/plain": [
       "           0         1         2         3         4         5         6    \\\n",
       "0     1.000000  1.000000  1.000000  1.000000  1.000000  1.000000  1.000000   \n",
       "1     1.002693  0.995259  0.995053  1.001998  0.999592  1.000082  1.009226   \n",
       "2     1.005478  0.996557  0.994119  1.006934  1.003262  0.994200  1.008707   \n",
       "3     0.991103  0.991408  1.002836  1.009388  1.014238  0.984600  1.012708   \n",
       "4     0.984288  0.991032  0.996530  1.010408  1.008896  0.984051  1.012397   \n",
       "...        ...       ...       ...       ...       ...       ...       ...   \n",
       "7556  4.226777  3.651457  5.506741  6.298520  7.271540  4.186647  4.799166   \n",
       "7557  4.253590  3.620594  5.529678  6.307483  7.297554  4.171720  4.772811   \n",
       "7558  4.275242  3.622953  5.502375  6.343242  7.295104  4.205604  4.775068   \n",
       "7559  4.266776  3.649066  5.523927  6.319514  7.314597  4.191636  4.790948   \n",
       "7560  4.276819  3.656218  5.534875  6.380472  7.306621  4.195999  4.787723   \n",
       "\n",
       "           7         8         9    ...       490        491       492  \\\n",
       "0     1.000000  1.000000  1.000000  ...  1.000000   1.000000  1.000000   \n",
       "1     0.999235  0.996346  0.998942  ...  1.001552   0.993374  1.009673   \n",
       "2     0.993178  0.997941  0.996041  ...  1.002449   0.994289  1.008835   \n",
       "3     0.997156  0.993579  0.986846  ...  0.997499   1.004630  1.017442   \n",
       "4     1.000493  0.999120  0.985820  ...  1.000402   1.002921  1.016639   \n",
       "...        ...       ...       ...  ...       ...        ...       ...   \n",
       "7556  4.780869  2.907621  5.368098  ...  7.096032  13.046577  8.408005   \n",
       "7557  4.804238  2.921332  5.426379  ...  7.088399  13.097993  8.379444   \n",
       "7558  4.779591  2.915736  5.428908  ...  7.013882  13.063104  8.356144   \n",
       "7559  4.786187  2.925902  5.426575  ...  7.045326  13.000013  8.302826   \n",
       "7560  4.777265  2.945111  5.396490  ...  7.027150  13.008822  8.279062   \n",
       "\n",
       "           493       494       495       496       497       498       499  \n",
       "0     1.000000  1.000000  1.000000  1.000000  1.000000  1.000000  1.000000  \n",
       "1     1.005424  1.005271  0.990707  1.000078  0.995202  0.996973  0.998766  \n",
       "2     1.006994  1.010418  0.987969  1.008199  1.000435  0.992349  0.998018  \n",
       "3     0.995784  1.012225  0.990383  1.011500  1.003472  0.992890  0.996420  \n",
       "4     0.997211  1.001933  0.991450  1.010379  0.993249  0.992037  0.993842  \n",
       "...        ...       ...       ...       ...       ...       ...       ...  \n",
       "7556  5.291295  6.052577  1.788252  6.308790  4.652346  6.785253  5.456171  \n",
       "7557  5.286849  6.085011  1.796401  6.277483  4.652605  6.835986  5.527402  \n",
       "7558  5.250371  6.074594  1.793015  6.258987  4.637940  6.858978  5.496066  \n",
       "7559  5.298735  6.100330  1.791401  6.239437  4.624245  6.849095  5.526802  \n",
       "7560  5.303537  6.110356  1.789716  6.276914  4.647491  6.869979  5.507155  \n",
       "\n",
       "[7561 rows x 500 columns]"
      ]
     },
     "execution_count": 40,
     "metadata": {},
     "output_type": "execute_result"
    }
   ],
   "source": [
    "# Running a Monte Carlo simulation to forecast 30 years cumulative returns\n",
    "MC_thirty_year.calc_cumulative_return()"
   ]
  },
  {
   "cell_type": "code",
   "execution_count": 41,
   "metadata": {},
   "outputs": [
    {
     "data": {
      "image/png": "[encoded data removed]",
      "text/plain": [
       "<Figure size 432x288 with 1 Axes>"
      ]
     },
     "metadata": {
      "needs_background": "light"
     },
     "output_type": "display_data"
    }
   ],
   "source": [
    "# Plot simulation outcomes\n",
    "line_plot = MC_thirty_year.plot_simulation()"
   ]
  },
  {
   "cell_type": "code",
   "execution_count": 42,
   "metadata": {},
   "outputs": [
    {
     "data": {
      "image/png": "[encoded data removed]",
      "text/plain": [
       "<Figure size 432x288 with 1 Axes>"
      ]
     },
     "metadata": {
      "needs_background": "light"
     },
     "output_type": "display_data"
    }
   ],
   "source": [
    "# Plot probability distribution and confidence intervals\n",
    "dist_plot = MC_thirty_year.plot_distribution()"
   ]
  },
  {
   "cell_type": "markdown",
   "metadata": {},
   "source": [
    "**Retirement Analysis**"
   ]
  },
  {
   "cell_type": "code",
   "execution_count": 43,
   "metadata": {},
   "outputs": [
    {
     "name": "stdout",
     "output_type": "stream",
     "text": [
      "count           500.000000\n",
      "mean              6.555597\n",
      "std               3.404988\n",
      "min               1.133281\n",
      "25%               4.221948\n",
      "50%               5.638473\n",
      "75%               8.074367\n",
      "max              24.381601\n",
      "95% CI Lower      2.318973\n",
      "95% CI Upper     15.908583\n",
      "Name: 7560, dtype: float64\n"
     ]
    }
   ],
   "source": [
    "# Fetch summary statistics from the Monte Carlo simulation results\n",
    "tbl = MC_thirty_year.summarize_cumulative_return()\n",
    "\n",
    "# Print summary statistics\n",
    "print(tbl)"
   ]
  },
  {
   "cell_type": "markdown",
   "metadata": {},
   "source": [
    "**Calculate the expected portfolio return at the 95% lower and upper confidence intervals based on a $20,000 initial investment.**"
   ]
  },
  {
   "cell_type": "code",
   "execution_count": 49,
   "metadata": {},
   "outputs": [
    {
     "name": "stdout",
     "output_type": "stream",
     "text": [
      "There is a 95% chance that an initial investment of 20000 will end within the range of $46379.47 to $318171.66 over the next 30 years.\n"
     ]
    }
   ],
   "source": [
    "# Set initial investment\n",
    "int_investment = 20000\n",
    "\n",
    "# Use the lower and upper `95%` confidence intervals to calculate the range of the possible outcomes of our $20,000\n",
    "CI_Lower = round(tbl[8] * int_investment,2)\n",
    "CI_Upper = round(tbl[9] * int_investment,2)\n",
    "\n",
    "#print(f\"There is a 95% chance that an initial investment of ${initial_investment} in the portfolio\"\n",
    "      #f\" over the next 30 years will end within in the range of\"\n",
    "      #f\" ${ci_lower} and ${ci_upper}\")\n",
    "print(f\"There is a 95% chance that an initial investment of {int_investment} will end within the range of ${CI_Lower} to ${CI_Upper} over the next 30 years.\")"
   ]
  },
  {
   "cell_type": "markdown",
   "metadata": {},
   "source": [
    "**Calculate the expected portfolio return at the 95% lower and upper confidence intervals based on a 50% increase in the initial investment.**"
   ]
  },
  {
   "cell_type": "code",
   "execution_count": 52,
   "metadata": {},
   "outputs": [
    {
     "name": "stdout",
     "output_type": "stream",
     "text": [
      "There is a 95% chance that an initial investment of 30000 will end within the range of $69569.2 to $477257.49 over the next 30 years.\n"
     ]
    }
   ],
   "source": [
    "# Set initial investment\n",
    "initial_investment = 20000 * 1.5\n",
    "\n",
    "# Use the lower and upper `95%` confidence intervals to calculate the range of the possible outcomes of our $30,000\n",
    "# YOUR CODE HERE!\n",
    "\n",
    "# Print results\n",
    "#print(f\"There is a 95% chance that an initial investment of ${initial_investment} in the portfolio\"\n",
    "      #f\" over the next 30 years will end within in the range of\"\n",
    "      #f\" ${ci_lower} and ${ci_upper}\")\n",
    "        # Set initial investment\n",
    "int_investment = 30000\n",
    "\n",
    "# Use the lower and upper `95%` confidence intervals to calculate the range of the possible outcomes of our $20,000\n",
    "CI_Lower = round(tbl[8] * int_investment,2)\n",
    "CI_Upper = round(tbl[9] * int_investment,2)\n",
    "\n",
    "#print(f\"There is a 95% chance that an initial investment of ${initial_investment} in the portfolio\"\n",
    "      #f\" over the next 30 years will end within in the range of\"\n",
    "      #f\" ${ci_lower} and ${ci_upper}\")\n",
    "print(f\"There is a 95% chance that an initial investment of {int_investment} will end within the range of ${CI_Lower} to ${CI_Upper} over the next 30 years.\")"
   ]
  },
  {
   "cell_type": "code",
   "execution_count": null,
   "metadata": {},
   "outputs": [],
   "source": []
  }
 ],
 "metadata": {
  "kernelspec": {
   "display_name": "Python 3",
   "language": "python",
   "name": "python3"
  },
  "language_info": {
   "codemirror_mode": {
    "name": "ipython",
    "version": 3
   },
   "file_extension": ".py",
   "mimetype": "text/x-python",
   "name": "python",
   "nbconvert_exporter": "python",
   "pygments_lexer": "ipython3",
   "version": "3.8.3"
  }
 },
 "nbformat": 4,
 "nbformat_minor": 4
}

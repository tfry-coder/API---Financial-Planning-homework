{
 "cells": [
  {
   "cell_type": "markdown",
   "metadata": {},
   "source": [
    "# Financial Planning"
   ]
  },
  {
   "cell_type": "code",
   "execution_count": 1,
   "metadata": {},
   "outputs": [],
   "source": [
    " # Initial imports\n",
    "import os\n",
    "import requests\n",
    "import pandas as pd\n",
    "from dotenv import load_dotenv\n",
    "import alpaca_trade_api as tradeapi\n",
    "from MCForecastTools import MCSimulation\n",
    "\n",
    "%matplotlib inline"
   ]
  },
  {
   "cell_type": "code",
   "execution_count": 3,
   "metadata": {},
   "outputs": [
    {
     "data": {
      "text/plain": [
       "True"
      ]
     },
     "execution_count": 3,
     "metadata": {},
     "output_type": "execute_result"
    }
   ],
   "source": [
    "# Load .env enviroment variables\n",
    "load_dotenv()"
   ]
  },
  {
   "cell_type": "markdown",
   "metadata": {},
   "source": [
    "**Personal Finance Planner**"
   ]
  },
  {
   "cell_type": "code",
   "execution_count": 2,
   "metadata": {},
   "outputs": [],
   "source": [
    "# Set current amount of crypto assets\n",
    "# YOUR CODE HERE!\n",
    "import os\n",
    "import requests\n",
    "import pandas as pd\n",
    "from dotenv import load_dotenv\n",
    "import alpaca_trade_api as tradeapi\n",
    "from MCForecastTools import MCSimulation\n",
    "%matplotlib inline"
   ]
  },
  {
   "cell_type": "code",
   "execution_count": 3,
   "metadata": {},
   "outputs": [
    {
     "data": {
      "text/plain": [
       "True"
      ]
     },
     "execution_count": 3,
     "metadata": {},
     "output_type": "execute_result"
    }
   ],
   "source": [
    "#load env\n",
    "load_dotenv()"
   ]
  },
  {
   "cell_type": "code",
   "execution_count": 4,
   "metadata": {},
   "outputs": [],
   "source": [
    "my_btc = 1.2\n",
    "my_eth = 5.3"
   ]
  },
  {
   "cell_type": "code",
   "execution_count": 5,
   "metadata": {},
   "outputs": [],
   "source": [
    "# Crypto API URLs\n",
    "btc_url = \"https://api.alternative.me/v2/ticker/Bitcoin/?convert=CAD\"\n",
    "eth_url = \"https://api.alternative.me/v2/ticker/Ethereum/?convert=CAD\""
   ]
  },
  {
   "cell_type": "code",
   "execution_count": 7,
   "metadata": {},
   "outputs": [
    {
     "name": "stdout",
     "output_type": "stream",
     "text": [
      "My Bitcoin balance is $21084.924\n",
      "My Ethereum balance is $2476.743\n"
     ]
    }
   ],
   "source": [
    "# Fetch current BTC price\n",
    "btc_response = requests.get(btc_url).json()\n",
    "btc_price = btc_response['data']['1']['quotes']['USD']['price']\n",
    "\n",
    "eth_response = requests.get(eth_url).json()\n",
    "eth_price = eth_response['data']['1027']['quotes']['USD']['price']\n",
    "\n",
    "#get current value of \"m cryptons\"\n",
    "my_btc_value = my_btc * btc_price\n",
    "my_eth_value = my_eth * eth_price\n",
    "\n",
    "#print output on cryto wallet\n",
    "print(f\"My Bitcoin balance is ${my_btc_value}\")\n",
    "print(f\"My Ethereum balance is ${my_eth_value}\")\n"
   ]
  },
  {
   "cell_type": "markdown",
   "metadata": {},
   "source": [
    "**Collect Investments Data Using Alpaca: SPY (stocks) and AGG (bonds)**"
   ]
  },
  {
   "cell_type": "code",
   "execution_count": 9,
   "metadata": {},
   "outputs": [],
   "source": [
    "# Current amount of shares\n",
    "# YOUR CODE HERE!\n",
    " # Set current amount of shares data\n",
    "#assumption : our stocks AMAT and ORCL\n",
    "my_AGG = 200\n",
    "my_SPY = 50"
   ]
  },
  {
   "cell_type": "code",
   "execution_count": 17,
   "metadata": {},
   "outputs": [],
   "source": [
    "# Set Alpaca API key and secret\n",
    "alpaca_api_key = os.getenv(\"ALPACA_API_KEY\")\n",
    "alpaca_secret_key = os.getenv(\"ALPACA_SECRET_KEY\")\n",
    "\n",
    "alpaca = tradeapi.REST(\n",
    "    alpaca_api_key,\n",
    "    alpaca_secret_key,\n",
    "    api_version = \"v2\"\n",
    ")"
   ]
  },
  {
   "cell_type": "code",
   "execution_count": 18,
   "metadata": {},
   "outputs": [
    {
     "name": "stdout",
     "output_type": "stream",
     "text": [
      "Alpaca Key type: <class 'str'>\n",
      "Alpaca Secret Key type: <class 'str'>\n"
     ]
    }
   ],
   "source": [
    "# Verify that Alpaca key and secret were correctly loaded\n",
    "print(f\"Alpaca Key type: {type(alpaca_api_key)}\")\n",
    "print(f\"Alpaca Secret Key type: {type(alpaca_secret_key)}\")"
   ]
  },
  {
   "cell_type": "code",
   "execution_count": 19,
   "metadata": {},
   "outputs": [
    {
     "data": {
      "text/html": [
       "<div>\n",
       "<style scoped>\n",
       "    .dataframe tbody tr th:only-of-type {\n",
       "        vertical-align: middle;\n",
       "    }\n",
       "\n",
       "    .dataframe tbody tr th {\n",
       "        vertical-align: top;\n",
       "    }\n",
       "\n",
       "    .dataframe thead tr th {\n",
       "        text-align: left;\n",
       "    }\n",
       "\n",
       "    .dataframe thead tr:last-of-type th {\n",
       "        text-align: right;\n",
       "    }\n",
       "</style>\n",
       "<table border=\"1\" class=\"dataframe\">\n",
       "  <thead>\n",
       "    <tr>\n",
       "      <th></th>\n",
       "      <th colspan=\"5\" halign=\"left\">AGG</th>\n",
       "      <th colspan=\"5\" halign=\"left\">SPY</th>\n",
       "    </tr>\n",
       "    <tr>\n",
       "      <th></th>\n",
       "      <th>open</th>\n",
       "      <th>high</th>\n",
       "      <th>low</th>\n",
       "      <th>close</th>\n",
       "      <th>volume</th>\n",
       "      <th>open</th>\n",
       "      <th>high</th>\n",
       "      <th>low</th>\n",
       "      <th>close</th>\n",
       "      <th>volume</th>\n",
       "    </tr>\n",
       "    <tr>\n",
       "      <th>time</th>\n",
       "      <th></th>\n",
       "      <th></th>\n",
       "      <th></th>\n",
       "      <th></th>\n",
       "      <th></th>\n",
       "      <th></th>\n",
       "      <th></th>\n",
       "      <th></th>\n",
       "      <th></th>\n",
       "      <th></th>\n",
       "    </tr>\n",
       "  </thead>\n",
       "  <tbody>\n",
       "    <tr>\n",
       "      <th>2020-11-18 00:00:00-05:00</th>\n",
       "      <td>117.95</td>\n",
       "      <td>117.98</td>\n",
       "      <td>117.93</td>\n",
       "      <td>117.95</td>\n",
       "      <td>1042035</td>\n",
       "      <td>360.91</td>\n",
       "      <td>361.33</td>\n",
       "      <td>360.31</td>\n",
       "      <td>361.07</td>\n",
       "      <td>8270926</td>\n",
       "    </tr>\n",
       "  </tbody>\n",
       "</table>\n",
       "</div>"
      ],
      "text/plain": [
       "                              AGG                                      SPY  \\\n",
       "                             open    high     low   close   volume    open   \n",
       "time                                                                         \n",
       "2020-11-18 00:00:00-05:00  117.95  117.98  117.93  117.95  1042035  360.91   \n",
       "\n",
       "                                                            \n",
       "                             high     low   close   volume  \n",
       "time                                                        \n",
       "2020-11-18 00:00:00-05:00  361.33  360.31  361.07  8270926  "
      ]
     },
     "execution_count": 19,
     "metadata": {},
     "output_type": "execute_result"
    }
   ],
   "source": [
    "# Format current date as ISO format\n",
    "# YOUR CODE HERE!\n",
    "from datetime import datetime\n",
    "startdate = datetime.now()\n",
    "\n",
    "#iso format\n",
    "today = pd.Timestamp(startdate, tz=\"America/New_York\").isoformat()\n",
    "\n",
    "#set tickers\n",
    "tickers = ['AGG','SPY']\n",
    "\n",
    "#timeframe\n",
    "timeframe = '1D'\n",
    "\n",
    "#get closing prices\n",
    "df_investments = alpaca.get_barset(tickers, timeframe, start = today).df\n",
    "\n",
    "# take a peek\n",
    "df_investments.head ()"
   ]
  },
  {
   "cell_type": "code",
   "execution_count": 20,
   "metadata": {},
   "outputs": [
    {
     "name": "stdout",
     "output_type": "stream",
     "text": [
      "Current price AGG 117.95\n",
      "Current price SPY 361.07\n"
     ]
    }
   ],
   "source": [
    " # Pick AGG and SPY close prices\n",
    "AGG_close_price = round(df_investments[tickers[0]]['close'][0],2)\n",
    "SPY_close_price = round(df_investments[tickers[1]]['close'][0],2)\n",
    "# Print AGG and SPY close prices\n",
    "print(\"Current price AGG\",AGG_close_price)\n",
    "print(\"Current price SPY\",SPY_close_price)\n"
   ]
  },
  {
   "cell_type": "code",
   "execution_count": 22,
   "metadata": {},
   "outputs": [
    {
     "name": "stdout",
     "output_type": "stream",
     "text": [
      "My AGG $23590.0\n",
      "My SPY $18053.5\n"
     ]
    }
   ],
   "source": [
    "# Compute the current value of shares\n",
    "my_AGG_value = my_AGG * AGG_close_price\n",
    "my_SPY_value = my_SPY * SPY_close_price\n",
    "\n",
    "#print output on stocks\n",
    "print(f\"My AGG ${my_AGG_value}\")\n",
    "print(f\"My SPY ${my_SPY_value}\")"
   ]
  },
  {
   "cell_type": "markdown",
   "metadata": {},
   "source": [
    "**Savings Health Analysis**"
   ]
  },
  {
   "cell_type": "code",
   "execution_count": 23,
   "metadata": {},
   "outputs": [
    {
     "data": {
      "text/html": [
       "<div>\n",
       "<style scoped>\n",
       "    .dataframe tbody tr th:only-of-type {\n",
       "        vertical-align: middle;\n",
       "    }\n",
       "\n",
       "    .dataframe tbody tr th {\n",
       "        vertical-align: top;\n",
       "    }\n",
       "\n",
       "    .dataframe thead th {\n",
       "        text-align: right;\n",
       "    }\n",
       "</style>\n",
       "<table border=\"1\" class=\"dataframe\">\n",
       "  <thead>\n",
       "    <tr style=\"text-align: right;\">\n",
       "      <th></th>\n",
       "      <th>amount</th>\n",
       "    </tr>\n",
       "  </thead>\n",
       "  <tbody>\n",
       "    <tr>\n",
       "      <th>crypto</th>\n",
       "      <td>23561.667</td>\n",
       "    </tr>\n",
       "    <tr>\n",
       "      <th>shares</th>\n",
       "      <td>41643.500</td>\n",
       "    </tr>\n",
       "  </tbody>\n",
       "</table>\n",
       "</div>"
      ],
      "text/plain": [
       "           amount\n",
       "crypto  23561.667\n",
       "shares  41643.500"
      ]
     },
     "execution_count": 23,
     "metadata": {},
     "output_type": "execute_result"
    }
   ],
   "source": [
    "# Set monthly household income\n",
    "monthly_income = 12000\n",
    "\n",
    "# Create savings DataFrame\n",
    "savings_data = [\n",
    "    my_btc_value+my_eth_value,\n",
    "    my_AGG_value+my_SPY_value\n",
    "]\n",
    "\n",
    "# Display savings DataFrame\n",
    "df_savings = pd.DataFrame(savings_data, columns=['amount'],index=['crypto','shares'])\n",
    "\n",
    "df_savings"
   ]
  },
  {
   "cell_type": "code",
   "execution_count": 24,
   "metadata": {},
   "outputs": [
    {
     "data": {
      "image/png": "[encoded data removed]",
      "text/plain": [
       "<Figure size 432x288 with 1 Axes>"
      ]
     },
     "metadata": {},
     "output_type": "display_data"
    }
   ],
   "source": [
    "# Plot savings pie chart\n",
    "df_savings.plot.pie(y='amount',title='Personal Savings');"
   ]
  },
  {
   "cell_type": "code",
   "execution_count": 27,
   "metadata": {},
   "outputs": [
    {
     "name": "stdout",
     "output_type": "stream",
     "text": [
      "Congratulations!  You have enough money in your emergency fund.\n"
     ]
    }
   ],
   "source": [
    " # Set ideal emergency fund\n",
    "#emergency_fund = monthly_income * 3\n",
    "emergency_fund = monthly_income * 3\n",
    "\n",
    "# Calculate total amount of savings\n",
    "total_savings = float(df_savings.sum())\n",
    "\n",
    "# Validate saving health\n",
    "if total_savings > emergency_fund:\n",
    "    print(\"Congratulations!  You have enough money in your emergency fund.\")\n",
    "elif total_savings == emergency_fund:\n",
    "    print(\"You have exactly 3 months saved up\")\n",
    "else:\n",
    "    print(\"You need \"+str(emergency_fund-total_savings)+\" to save more!\")"
   ]
  },
  {
   "cell_type": "markdown",
   "metadata": {},
   "source": [
    "**Part 2 - Retirement Planning (Monte Carlo Simulation)**"
   ]
  },
  {
   "cell_type": "code",
   "execution_count": 36,
   "metadata": {},
   "outputs": [],
   "source": [
    "# Set start and end dates of five years back from today.\n",
    "# Sample results may vary from the solution based on the time frame chosen\n",
    "start_date = pd.Timestamp('2015-11-18', tz='America/New_York').isoformat()\n",
    "end_date = pd.Timestamp('2020-11-18', tz='America/New_York').isoformat()"
   ]
  },
  {
   "cell_type": "code",
   "execution_count": 37,
   "metadata": {},
   "outputs": [
    {
     "data": {
      "text/html": [
       "<div>\n",
       "<style scoped>\n",
       "    .dataframe tbody tr th:only-of-type {\n",
       "        vertical-align: middle;\n",
       "    }\n",
       "\n",
       "    .dataframe tbody tr th {\n",
       "        vertical-align: top;\n",
       "    }\n",
       "\n",
       "    .dataframe thead tr th {\n",
       "        text-align: left;\n",
       "    }\n",
       "\n",
       "    .dataframe thead tr:last-of-type th {\n",
       "        text-align: right;\n",
       "    }\n",
       "</style>\n",
       "<table border=\"1\" class=\"dataframe\">\n",
       "  <thead>\n",
       "    <tr>\n",
       "      <th></th>\n",
       "      <th colspan=\"5\" halign=\"left\">AGG</th>\n",
       "      <th colspan=\"5\" halign=\"left\">SPY</th>\n",
       "    </tr>\n",
       "    <tr>\n",
       "      <th></th>\n",
       "      <th>open</th>\n",
       "      <th>high</th>\n",
       "      <th>low</th>\n",
       "      <th>close</th>\n",
       "      <th>volume</th>\n",
       "      <th>open</th>\n",
       "      <th>high</th>\n",
       "      <th>low</th>\n",
       "      <th>close</th>\n",
       "      <th>volume</th>\n",
       "    </tr>\n",
       "    <tr>\n",
       "      <th>time</th>\n",
       "      <th></th>\n",
       "      <th></th>\n",
       "      <th></th>\n",
       "      <th></th>\n",
       "      <th></th>\n",
       "      <th></th>\n",
       "      <th></th>\n",
       "      <th></th>\n",
       "      <th></th>\n",
       "      <th></th>\n",
       "    </tr>\n",
       "  </thead>\n",
       "  <tbody>\n",
       "    <tr>\n",
       "      <th>2015-11-18 00:00:00-05:00</th>\n",
       "      <td>108.65</td>\n",
       "      <td>108.71</td>\n",
       "      <td>108.5400</td>\n",
       "      <td>108.62</td>\n",
       "      <td>1824597</td>\n",
       "      <td>206.04</td>\n",
       "      <td>208.90</td>\n",
       "      <td>205.99</td>\n",
       "      <td>208.71</td>\n",
       "      <td>94448031</td>\n",
       "    </tr>\n",
       "    <tr>\n",
       "      <th>2015-11-19 00:00:00-05:00</th>\n",
       "      <td>108.76</td>\n",
       "      <td>108.90</td>\n",
       "      <td>108.6800</td>\n",
       "      <td>108.68</td>\n",
       "      <td>2655263</td>\n",
       "      <td>208.59</td>\n",
       "      <td>209.05</td>\n",
       "      <td>208.20</td>\n",
       "      <td>208.53</td>\n",
       "      <td>61897641</td>\n",
       "    </tr>\n",
       "    <tr>\n",
       "      <th>2015-11-20 00:00:00-05:00</th>\n",
       "      <td>108.77</td>\n",
       "      <td>108.82</td>\n",
       "      <td>108.6000</td>\n",
       "      <td>108.62</td>\n",
       "      <td>1893587</td>\n",
       "      <td>209.45</td>\n",
       "      <td>210.12</td>\n",
       "      <td>208.86</td>\n",
       "      <td>209.35</td>\n",
       "      <td>67021762</td>\n",
       "    </tr>\n",
       "    <tr>\n",
       "      <th>2015-11-23 00:00:00-05:00</th>\n",
       "      <td>108.65</td>\n",
       "      <td>108.76</td>\n",
       "      <td>108.5700</td>\n",
       "      <td>108.68</td>\n",
       "      <td>1595639</td>\n",
       "      <td>209.38</td>\n",
       "      <td>209.98</td>\n",
       "      <td>208.52</td>\n",
       "      <td>209.06</td>\n",
       "      <td>54738608</td>\n",
       "    </tr>\n",
       "    <tr>\n",
       "      <th>2015-11-24 00:00:00-05:00</th>\n",
       "      <td>108.75</td>\n",
       "      <td>108.80</td>\n",
       "      <td>108.6611</td>\n",
       "      <td>108.73</td>\n",
       "      <td>1153821</td>\n",
       "      <td>207.87</td>\n",
       "      <td>209.83</td>\n",
       "      <td>207.41</td>\n",
       "      <td>209.38</td>\n",
       "      <td>81748691</td>\n",
       "    </tr>\n",
       "  </tbody>\n",
       "</table>\n",
       "</div>"
      ],
      "text/plain": [
       "                              AGG                                        SPY  \\\n",
       "                             open    high       low   close   volume    open   \n",
       "time                                                                           \n",
       "2015-11-18 00:00:00-05:00  108.65  108.71  108.5400  108.62  1824597  206.04   \n",
       "2015-11-19 00:00:00-05:00  108.76  108.90  108.6800  108.68  2655263  208.59   \n",
       "2015-11-20 00:00:00-05:00  108.77  108.82  108.6000  108.62  1893587  209.45   \n",
       "2015-11-23 00:00:00-05:00  108.65  108.76  108.5700  108.68  1595639  209.38   \n",
       "2015-11-24 00:00:00-05:00  108.75  108.80  108.6611  108.73  1153821  207.87   \n",
       "\n",
       "                                                             \n",
       "                             high     low   close    volume  \n",
       "time                                                         \n",
       "2015-11-18 00:00:00-05:00  208.90  205.99  208.71  94448031  \n",
       "2015-11-19 00:00:00-05:00  209.05  208.20  208.53  61897641  \n",
       "2015-11-20 00:00:00-05:00  210.12  208.86  209.35  67021762  \n",
       "2015-11-23 00:00:00-05:00  209.98  208.52  209.06  54738608  \n",
       "2015-11-24 00:00:00-05:00  209.83  207.41  209.38  81748691  "
      ]
     },
     "execution_count": 37,
     "metadata": {},
     "output_type": "execute_result"
    }
   ],
   "source": [
    "# Get 5 years' worth of historical data for SPY and AGG\n",
    "df_stock_data = alpaca.get_barset(\n",
    "    tickers, \n",
    "    timeframe,\n",
    "    start = start_date,\n",
    "    end = end_date\n",
    ").df\n",
    "# Display sample data\n",
    "df_stock_data.head()\n",
    "#df_stock_data.head()"
   ]
  },
  {
   "cell_type": "code",
   "execution_count": 68,
   "metadata": {},
   "outputs": [],
   "source": [
    "# Configuring a Monte Carlo simulation to forecast 30 years cumulative returns\n",
    "MC_thirty_year = MCSimulation(\n",
    "    portfolio_data = df_stock_data,\n",
    "    weights = [.40,.60],\n",
    "    num_simulation = 500,\n",
    "    num_trading_days = 252*30\n",
    ")"
   ]
  },
  {
   "cell_type": "code",
   "execution_count": 69,
   "metadata": {},
   "outputs": [
    {
     "data": {
      "text/html": [
       "<div>\n",
       "<style scoped>\n",
       "    .dataframe tbody tr th:only-of-type {\n",
       "        vertical-align: middle;\n",
       "    }\n",
       "\n",
       "    .dataframe tbody tr th {\n",
       "        vertical-align: top;\n",
       "    }\n",
       "\n",
       "    .dataframe thead tr th {\n",
       "        text-align: left;\n",
       "    }\n",
       "\n",
       "    .dataframe thead tr:last-of-type th {\n",
       "        text-align: right;\n",
       "    }\n",
       "</style>\n",
       "<table border=\"1\" class=\"dataframe\">\n",
       "  <thead>\n",
       "    <tr>\n",
       "      <th></th>\n",
       "      <th colspan=\"6\" halign=\"left\">AGG</th>\n",
       "      <th colspan=\"6\" halign=\"left\">SPY</th>\n",
       "    </tr>\n",
       "    <tr>\n",
       "      <th></th>\n",
       "      <th>open</th>\n",
       "      <th>high</th>\n",
       "      <th>low</th>\n",
       "      <th>close</th>\n",
       "      <th>volume</th>\n",
       "      <th>daily_return</th>\n",
       "      <th>open</th>\n",
       "      <th>high</th>\n",
       "      <th>low</th>\n",
       "      <th>close</th>\n",
       "      <th>volume</th>\n",
       "      <th>daily_return</th>\n",
       "    </tr>\n",
       "    <tr>\n",
       "      <th>time</th>\n",
       "      <th></th>\n",
       "      <th></th>\n",
       "      <th></th>\n",
       "      <th></th>\n",
       "      <th></th>\n",
       "      <th></th>\n",
       "      <th></th>\n",
       "      <th></th>\n",
       "      <th></th>\n",
       "      <th></th>\n",
       "      <th></th>\n",
       "      <th></th>\n",
       "    </tr>\n",
       "  </thead>\n",
       "  <tbody>\n",
       "    <tr>\n",
       "      <th>2015-11-18 00:00:00-05:00</th>\n",
       "      <td>108.65</td>\n",
       "      <td>108.71</td>\n",
       "      <td>108.5400</td>\n",
       "      <td>108.62</td>\n",
       "      <td>1824597</td>\n",
       "      <td>NaN</td>\n",
       "      <td>206.04</td>\n",
       "      <td>208.90</td>\n",
       "      <td>205.99</td>\n",
       "      <td>208.71</td>\n",
       "      <td>94448031</td>\n",
       "      <td>NaN</td>\n",
       "    </tr>\n",
       "    <tr>\n",
       "      <th>2015-11-19 00:00:00-05:00</th>\n",
       "      <td>108.76</td>\n",
       "      <td>108.90</td>\n",
       "      <td>108.6800</td>\n",
       "      <td>108.68</td>\n",
       "      <td>2655263</td>\n",
       "      <td>0.000552</td>\n",
       "      <td>208.59</td>\n",
       "      <td>209.05</td>\n",
       "      <td>208.20</td>\n",
       "      <td>208.53</td>\n",
       "      <td>61897641</td>\n",
       "      <td>-0.000862</td>\n",
       "    </tr>\n",
       "    <tr>\n",
       "      <th>2015-11-20 00:00:00-05:00</th>\n",
       "      <td>108.77</td>\n",
       "      <td>108.82</td>\n",
       "      <td>108.6000</td>\n",
       "      <td>108.62</td>\n",
       "      <td>1893587</td>\n",
       "      <td>-0.000552</td>\n",
       "      <td>209.45</td>\n",
       "      <td>210.12</td>\n",
       "      <td>208.86</td>\n",
       "      <td>209.35</td>\n",
       "      <td>67021762</td>\n",
       "      <td>0.003932</td>\n",
       "    </tr>\n",
       "    <tr>\n",
       "      <th>2015-11-23 00:00:00-05:00</th>\n",
       "      <td>108.65</td>\n",
       "      <td>108.76</td>\n",
       "      <td>108.5700</td>\n",
       "      <td>108.68</td>\n",
       "      <td>1595639</td>\n",
       "      <td>0.000552</td>\n",
       "      <td>209.38</td>\n",
       "      <td>209.98</td>\n",
       "      <td>208.52</td>\n",
       "      <td>209.06</td>\n",
       "      <td>54738608</td>\n",
       "      <td>-0.001385</td>\n",
       "    </tr>\n",
       "    <tr>\n",
       "      <th>2015-11-24 00:00:00-05:00</th>\n",
       "      <td>108.75</td>\n",
       "      <td>108.80</td>\n",
       "      <td>108.6611</td>\n",
       "      <td>108.73</td>\n",
       "      <td>1153821</td>\n",
       "      <td>0.000460</td>\n",
       "      <td>207.87</td>\n",
       "      <td>209.83</td>\n",
       "      <td>207.41</td>\n",
       "      <td>209.38</td>\n",
       "      <td>81748691</td>\n",
       "      <td>0.001531</td>\n",
       "    </tr>\n",
       "  </tbody>\n",
       "</table>\n",
       "</div>"
      ],
      "text/plain": [
       "                              AGG                                     \\\n",
       "                             open    high       low   close   volume   \n",
       "time                                                                   \n",
       "2015-11-18 00:00:00-05:00  108.65  108.71  108.5400  108.62  1824597   \n",
       "2015-11-19 00:00:00-05:00  108.76  108.90  108.6800  108.68  2655263   \n",
       "2015-11-20 00:00:00-05:00  108.77  108.82  108.6000  108.62  1893587   \n",
       "2015-11-23 00:00:00-05:00  108.65  108.76  108.5700  108.68  1595639   \n",
       "2015-11-24 00:00:00-05:00  108.75  108.80  108.6611  108.73  1153821   \n",
       "\n",
       "                                           SPY                          \\\n",
       "                          daily_return    open    high     low   close   \n",
       "time                                                                     \n",
       "2015-11-18 00:00:00-05:00          NaN  206.04  208.90  205.99  208.71   \n",
       "2015-11-19 00:00:00-05:00     0.000552  208.59  209.05  208.20  208.53   \n",
       "2015-11-20 00:00:00-05:00    -0.000552  209.45  210.12  208.86  209.35   \n",
       "2015-11-23 00:00:00-05:00     0.000552  209.38  209.98  208.52  209.06   \n",
       "2015-11-24 00:00:00-05:00     0.000460  207.87  209.83  207.41  209.38   \n",
       "\n",
       "                                                  \n",
       "                             volume daily_return  \n",
       "time                                              \n",
       "2015-11-18 00:00:00-05:00  94448031          NaN  \n",
       "2015-11-19 00:00:00-05:00  61897641    -0.000862  \n",
       "2015-11-20 00:00:00-05:00  67021762     0.003932  \n",
       "2015-11-23 00:00:00-05:00  54738608    -0.001385  \n",
       "2015-11-24 00:00:00-05:00  81748691     0.001531  "
      ]
     },
     "execution_count": 69,
     "metadata": {},
     "output_type": "execute_result"
    }
   ],
   "source": [
    " # Printing the simulation input data\n",
    "MC_thirty_year.portfolio_data.head()"
   ]
  },
  {
   "cell_type": "code",
   "execution_count": 70,
   "metadata": {},
   "outputs": [
    {
     "name": "stdout",
     "output_type": "stream",
     "text": [
      "Running Monte Carlo simulation number 0.\n",
      "Running Monte Carlo simulation number 10.\n",
      "Running Monte Carlo simulation number 20.\n",
      "Running Monte Carlo simulation number 30.\n",
      "Running Monte Carlo simulation number 40.\n",
      "Running Monte Carlo simulation number 50.\n",
      "Running Monte Carlo simulation number 60.\n",
      "Running Monte Carlo simulation number 70.\n",
      "Running Monte Carlo simulation number 80.\n",
      "Running Monte Carlo simulation number 90.\n",
      "Running Monte Carlo simulation number 100.\n",
      "Running Monte Carlo simulation number 110.\n",
      "Running Monte Carlo simulation number 120.\n",
      "Running Monte Carlo simulation number 130.\n",
      "Running Monte Carlo simulation number 140.\n",
      "Running Monte Carlo simulation number 150.\n",
      "Running Monte Carlo simulation number 160.\n",
      "Running Monte Carlo simulation number 170.\n",
      "Running Monte Carlo simulation number 180.\n",
      "Running Monte Carlo simulation number 190.\n",
      "Running Monte Carlo simulation number 200.\n",
      "Running Monte Carlo simulation number 210.\n",
      "Running Monte Carlo simulation number 220.\n",
      "Running Monte Carlo simulation number 230.\n",
      "Running Monte Carlo simulation number 240.\n",
      "Running Monte Carlo simulation number 250.\n",
      "Running Monte Carlo simulation number 260.\n",
      "Running Monte Carlo simulation number 270.\n",
      "Running Monte Carlo simulation number 280.\n",
      "Running Monte Carlo simulation number 290.\n",
      "Running Monte Carlo simulation number 300.\n",
      "Running Monte Carlo simulation number 310.\n",
      "Running Monte Carlo simulation number 320.\n",
      "Running Monte Carlo simulation number 330.\n",
      "Running Monte Carlo simulation number 340.\n",
      "Running Monte Carlo simulation number 350.\n",
      "Running Monte Carlo simulation number 360.\n",
      "Running Monte Carlo simulation number 370.\n",
      "Running Monte Carlo simulation number 380.\n",
      "Running Monte Carlo simulation number 390.\n",
      "Running Monte Carlo simulation number 400.\n",
      "Running Monte Carlo simulation number 410.\n",
      "Running Monte Carlo simulation number 420.\n",
      "Running Monte Carlo simulation number 430.\n",
      "Running Monte Carlo simulation number 440.\n",
      "Running Monte Carlo simulation number 450.\n",
      "Running Monte Carlo simulation number 460.\n",
      "Running Monte Carlo simulation number 470.\n",
      "Running Monte Carlo simulation number 480.\n",
      "Running Monte Carlo simulation number 490.\n"
     ]
    },
    {
     "data": {
      "text/html": [
       "<div>\n",
       "<style scoped>\n",
       "    .dataframe tbody tr th:only-of-type {\n",
       "        vertical-align: middle;\n",
       "    }\n",
       "\n",
       "    .dataframe tbody tr th {\n",
       "        vertical-align: top;\n",
       "    }\n",
       "\n",
       "    .dataframe thead th {\n",
       "        text-align: right;\n",
       "    }\n",
       "</style>\n",
       "<table border=\"1\" class=\"dataframe\">\n",
       "  <thead>\n",
       "    <tr style=\"text-align: right;\">\n",
       "      <th></th>\n",
       "      <th>0</th>\n",
       "      <th>1</th>\n",
       "      <th>2</th>\n",
       "      <th>3</th>\n",
       "      <th>4</th>\n",
       "      <th>5</th>\n",
       "      <th>6</th>\n",
       "      <th>7</th>\n",
       "      <th>8</th>\n",
       "      <th>9</th>\n",
       "      <th>...</th>\n",
       "      <th>490</th>\n",
       "      <th>491</th>\n",
       "      <th>492</th>\n",
       "      <th>493</th>\n",
       "      <th>494</th>\n",
       "      <th>495</th>\n",
       "      <th>496</th>\n",
       "      <th>497</th>\n",
       "      <th>498</th>\n",
       "      <th>499</th>\n",
       "    </tr>\n",
       "  </thead>\n",
       "  <tbody>\n",
       "    <tr>\n",
       "      <th>0</th>\n",
       "      <td>1.000000</td>\n",
       "      <td>1.000000</td>\n",
       "      <td>1.000000</td>\n",
       "      <td>1.000000</td>\n",
       "      <td>1.000000</td>\n",
       "      <td>1.000000</td>\n",
       "      <td>1.000000</td>\n",
       "      <td>1.000000</td>\n",
       "      <td>1.000000</td>\n",
       "      <td>1.000000</td>\n",
       "      <td>...</td>\n",
       "      <td>1.000000</td>\n",
       "      <td>1.000000</td>\n",
       "      <td>1.000000</td>\n",
       "      <td>1.000000</td>\n",
       "      <td>1.000000</td>\n",
       "      <td>1.000000</td>\n",
       "      <td>1.000000</td>\n",
       "      <td>1.000000</td>\n",
       "      <td>1.000000</td>\n",
       "      <td>1.000000</td>\n",
       "    </tr>\n",
       "    <tr>\n",
       "      <th>1</th>\n",
       "      <td>1.004855</td>\n",
       "      <td>0.991931</td>\n",
       "      <td>0.998609</td>\n",
       "      <td>1.005497</td>\n",
       "      <td>1.006008</td>\n",
       "      <td>1.004635</td>\n",
       "      <td>1.000362</td>\n",
       "      <td>0.999050</td>\n",
       "      <td>0.997704</td>\n",
       "      <td>0.993453</td>\n",
       "      <td>...</td>\n",
       "      <td>0.998069</td>\n",
       "      <td>0.993152</td>\n",
       "      <td>0.999867</td>\n",
       "      <td>1.002136</td>\n",
       "      <td>1.005830</td>\n",
       "      <td>0.989885</td>\n",
       "      <td>1.000028</td>\n",
       "      <td>1.008892</td>\n",
       "      <td>0.988353</td>\n",
       "      <td>1.009418</td>\n",
       "    </tr>\n",
       "    <tr>\n",
       "      <th>2</th>\n",
       "      <td>1.010840</td>\n",
       "      <td>0.995688</td>\n",
       "      <td>0.988405</td>\n",
       "      <td>1.010228</td>\n",
       "      <td>1.025867</td>\n",
       "      <td>0.994580</td>\n",
       "      <td>0.994202</td>\n",
       "      <td>0.997997</td>\n",
       "      <td>0.996215</td>\n",
       "      <td>0.992479</td>\n",
       "      <td>...</td>\n",
       "      <td>1.002227</td>\n",
       "      <td>1.008033</td>\n",
       "      <td>0.987637</td>\n",
       "      <td>1.001544</td>\n",
       "      <td>1.010968</td>\n",
       "      <td>0.986818</td>\n",
       "      <td>1.003263</td>\n",
       "      <td>1.019498</td>\n",
       "      <td>0.985972</td>\n",
       "      <td>1.012059</td>\n",
       "    </tr>\n",
       "    <tr>\n",
       "      <th>3</th>\n",
       "      <td>1.013880</td>\n",
       "      <td>0.983408</td>\n",
       "      <td>0.982598</td>\n",
       "      <td>1.012759</td>\n",
       "      <td>1.036944</td>\n",
       "      <td>0.990647</td>\n",
       "      <td>0.994687</td>\n",
       "      <td>1.008285</td>\n",
       "      <td>0.995272</td>\n",
       "      <td>1.000511</td>\n",
       "      <td>...</td>\n",
       "      <td>0.998121</td>\n",
       "      <td>0.998719</td>\n",
       "      <td>0.999233</td>\n",
       "      <td>1.001711</td>\n",
       "      <td>1.002240</td>\n",
       "      <td>0.987510</td>\n",
       "      <td>0.999883</td>\n",
       "      <td>1.034468</td>\n",
       "      <td>0.996059</td>\n",
       "      <td>1.017833</td>\n",
       "    </tr>\n",
       "    <tr>\n",
       "      <th>4</th>\n",
       "      <td>1.015223</td>\n",
       "      <td>0.975886</td>\n",
       "      <td>0.981947</td>\n",
       "      <td>1.015828</td>\n",
       "      <td>1.036384</td>\n",
       "      <td>0.990872</td>\n",
       "      <td>0.993171</td>\n",
       "      <td>1.020841</td>\n",
       "      <td>0.989584</td>\n",
       "      <td>0.999036</td>\n",
       "      <td>...</td>\n",
       "      <td>1.012208</td>\n",
       "      <td>0.981054</td>\n",
       "      <td>0.994509</td>\n",
       "      <td>0.991834</td>\n",
       "      <td>1.009486</td>\n",
       "      <td>0.982367</td>\n",
       "      <td>1.007565</td>\n",
       "      <td>1.036066</td>\n",
       "      <td>0.984287</td>\n",
       "      <td>1.025765</td>\n",
       "    </tr>\n",
       "    <tr>\n",
       "      <th>...</th>\n",
       "      <td>...</td>\n",
       "      <td>...</td>\n",
       "      <td>...</td>\n",
       "      <td>...</td>\n",
       "      <td>...</td>\n",
       "      <td>...</td>\n",
       "      <td>...</td>\n",
       "      <td>...</td>\n",
       "      <td>...</td>\n",
       "      <td>...</td>\n",
       "      <td>...</td>\n",
       "      <td>...</td>\n",
       "      <td>...</td>\n",
       "      <td>...</td>\n",
       "      <td>...</td>\n",
       "      <td>...</td>\n",
       "      <td>...</td>\n",
       "      <td>...</td>\n",
       "      <td>...</td>\n",
       "      <td>...</td>\n",
       "      <td>...</td>\n",
       "    </tr>\n",
       "    <tr>\n",
       "      <th>7556</th>\n",
       "      <td>10.295918</td>\n",
       "      <td>17.591728</td>\n",
       "      <td>10.318828</td>\n",
       "      <td>5.964702</td>\n",
       "      <td>5.005726</td>\n",
       "      <td>14.546485</td>\n",
       "      <td>8.203774</td>\n",
       "      <td>21.218160</td>\n",
       "      <td>4.238878</td>\n",
       "      <td>10.712543</td>\n",
       "      <td>...</td>\n",
       "      <td>7.223557</td>\n",
       "      <td>10.679346</td>\n",
       "      <td>10.390195</td>\n",
       "      <td>6.628993</td>\n",
       "      <td>5.402367</td>\n",
       "      <td>8.115533</td>\n",
       "      <td>27.628229</td>\n",
       "      <td>16.002293</td>\n",
       "      <td>9.900180</td>\n",
       "      <td>8.573724</td>\n",
       "    </tr>\n",
       "    <tr>\n",
       "      <th>7557</th>\n",
       "      <td>10.321211</td>\n",
       "      <td>17.485914</td>\n",
       "      <td>10.213796</td>\n",
       "      <td>5.911149</td>\n",
       "      <td>5.048603</td>\n",
       "      <td>14.407861</td>\n",
       "      <td>8.097814</td>\n",
       "      <td>21.237251</td>\n",
       "      <td>4.285415</td>\n",
       "      <td>10.643660</td>\n",
       "      <td>...</td>\n",
       "      <td>7.266418</td>\n",
       "      <td>10.651317</td>\n",
       "      <td>10.304934</td>\n",
       "      <td>6.565647</td>\n",
       "      <td>5.340036</td>\n",
       "      <td>8.053876</td>\n",
       "      <td>27.689671</td>\n",
       "      <td>15.979077</td>\n",
       "      <td>9.748545</td>\n",
       "      <td>8.561444</td>\n",
       "    </tr>\n",
       "    <tr>\n",
       "      <th>7558</th>\n",
       "      <td>10.158189</td>\n",
       "      <td>17.519066</td>\n",
       "      <td>10.149977</td>\n",
       "      <td>6.002205</td>\n",
       "      <td>5.045487</td>\n",
       "      <td>14.408111</td>\n",
       "      <td>8.111488</td>\n",
       "      <td>21.389556</td>\n",
       "      <td>4.295595</td>\n",
       "      <td>10.819747</td>\n",
       "      <td>...</td>\n",
       "      <td>7.325943</td>\n",
       "      <td>10.706286</td>\n",
       "      <td>10.317154</td>\n",
       "      <td>6.506109</td>\n",
       "      <td>5.310660</td>\n",
       "      <td>8.046359</td>\n",
       "      <td>28.176740</td>\n",
       "      <td>15.943373</td>\n",
       "      <td>9.665572</td>\n",
       "      <td>8.593099</td>\n",
       "    </tr>\n",
       "    <tr>\n",
       "      <th>7559</th>\n",
       "      <td>10.157982</td>\n",
       "      <td>17.657736</td>\n",
       "      <td>10.135262</td>\n",
       "      <td>5.985057</td>\n",
       "      <td>5.036106</td>\n",
       "      <td>14.322214</td>\n",
       "      <td>8.105051</td>\n",
       "      <td>21.465040</td>\n",
       "      <td>4.328950</td>\n",
       "      <td>10.839980</td>\n",
       "      <td>...</td>\n",
       "      <td>7.386051</td>\n",
       "      <td>10.595179</td>\n",
       "      <td>10.422855</td>\n",
       "      <td>6.456514</td>\n",
       "      <td>5.299357</td>\n",
       "      <td>7.938924</td>\n",
       "      <td>28.196231</td>\n",
       "      <td>15.844147</td>\n",
       "      <td>9.685211</td>\n",
       "      <td>8.636578</td>\n",
       "    </tr>\n",
       "    <tr>\n",
       "      <th>7560</th>\n",
       "      <td>10.255202</td>\n",
       "      <td>17.712906</td>\n",
       "      <td>10.189383</td>\n",
       "      <td>6.017004</td>\n",
       "      <td>5.063777</td>\n",
       "      <td>14.119818</td>\n",
       "      <td>8.113466</td>\n",
       "      <td>21.326265</td>\n",
       "      <td>4.346023</td>\n",
       "      <td>10.866780</td>\n",
       "      <td>...</td>\n",
       "      <td>7.294711</td>\n",
       "      <td>10.642470</td>\n",
       "      <td>10.303548</td>\n",
       "      <td>6.468137</td>\n",
       "      <td>5.342636</td>\n",
       "      <td>7.849546</td>\n",
       "      <td>27.959536</td>\n",
       "      <td>15.736002</td>\n",
       "      <td>9.726344</td>\n",
       "      <td>8.610050</td>\n",
       "    </tr>\n",
       "  </tbody>\n",
       "</table>\n",
       "<p>7561 rows × 500 columns</p>\n",
       "</div>"
      ],
      "text/plain": [
       "            0          1          2         3         4          5    \\\n",
       "0      1.000000   1.000000   1.000000  1.000000  1.000000   1.000000   \n",
       "1      1.004855   0.991931   0.998609  1.005497  1.006008   1.004635   \n",
       "2      1.010840   0.995688   0.988405  1.010228  1.025867   0.994580   \n",
       "3      1.013880   0.983408   0.982598  1.012759  1.036944   0.990647   \n",
       "4      1.015223   0.975886   0.981947  1.015828  1.036384   0.990872   \n",
       "...         ...        ...        ...       ...       ...        ...   \n",
       "7556  10.295918  17.591728  10.318828  5.964702  5.005726  14.546485   \n",
       "7557  10.321211  17.485914  10.213796  5.911149  5.048603  14.407861   \n",
       "7558  10.158189  17.519066  10.149977  6.002205  5.045487  14.408111   \n",
       "7559  10.157982  17.657736  10.135262  5.985057  5.036106  14.322214   \n",
       "7560  10.255202  17.712906  10.189383  6.017004  5.063777  14.119818   \n",
       "\n",
       "           6          7         8          9    ...       490        491  \\\n",
       "0     1.000000   1.000000  1.000000   1.000000  ...  1.000000   1.000000   \n",
       "1     1.000362   0.999050  0.997704   0.993453  ...  0.998069   0.993152   \n",
       "2     0.994202   0.997997  0.996215   0.992479  ...  1.002227   1.008033   \n",
       "3     0.994687   1.008285  0.995272   1.000511  ...  0.998121   0.998719   \n",
       "4     0.993171   1.020841  0.989584   0.999036  ...  1.012208   0.981054   \n",
       "...        ...        ...       ...        ...  ...       ...        ...   \n",
       "7556  8.203774  21.218160  4.238878  10.712543  ...  7.223557  10.679346   \n",
       "7557  8.097814  21.237251  4.285415  10.643660  ...  7.266418  10.651317   \n",
       "7558  8.111488  21.389556  4.295595  10.819747  ...  7.325943  10.706286   \n",
       "7559  8.105051  21.465040  4.328950  10.839980  ...  7.386051  10.595179   \n",
       "7560  8.113466  21.326265  4.346023  10.866780  ...  7.294711  10.642470   \n",
       "\n",
       "            492       493       494       495        496        497       498  \\\n",
       "0      1.000000  1.000000  1.000000  1.000000   1.000000   1.000000  1.000000   \n",
       "1      0.999867  1.002136  1.005830  0.989885   1.000028   1.008892  0.988353   \n",
       "2      0.987637  1.001544  1.010968  0.986818   1.003263   1.019498  0.985972   \n",
       "3      0.999233  1.001711  1.002240  0.987510   0.999883   1.034468  0.996059   \n",
       "4      0.994509  0.991834  1.009486  0.982367   1.007565   1.036066  0.984287   \n",
       "...         ...       ...       ...       ...        ...        ...       ...   \n",
       "7556  10.390195  6.628993  5.402367  8.115533  27.628229  16.002293  9.900180   \n",
       "7557  10.304934  6.565647  5.340036  8.053876  27.689671  15.979077  9.748545   \n",
       "7558  10.317154  6.506109  5.310660  8.046359  28.176740  15.943373  9.665572   \n",
       "7559  10.422855  6.456514  5.299357  7.938924  28.196231  15.844147  9.685211   \n",
       "7560  10.303548  6.468137  5.342636  7.849546  27.959536  15.736002  9.726344   \n",
       "\n",
       "           499  \n",
       "0     1.000000  \n",
       "1     1.009418  \n",
       "2     1.012059  \n",
       "3     1.017833  \n",
       "4     1.025765  \n",
       "...        ...  \n",
       "7556  8.573724  \n",
       "7557  8.561444  \n",
       "7558  8.593099  \n",
       "7559  8.636578  \n",
       "7560  8.610050  \n",
       "\n",
       "[7561 rows x 500 columns]"
      ]
     },
     "execution_count": 70,
     "metadata": {},
     "output_type": "execute_result"
    }
   ],
   "source": [
    "# Running a Monte Carlo simulation to forecast 30 years cumulative returns\n",
    "MC_thirty_year.calc_cumulative_return()"
   ]
  },
  {
   "cell_type": "code",
   "execution_count": 71,
   "metadata": {},
   "outputs": [
    {
     "data": {
      "image/png": "[encoded data removed]",
      "text/plain": [
       "<Figure size 432x288 with 1 Axes>"
      ]
     },
     "metadata": {
      "needs_background": "light"
     },
     "output_type": "display_data"
    }
   ],
   "source": [
    "# Plot simulation outcomes\n",
    "line_plot = MC_thirty_year.plot_simulation()"
   ]
  },
  {
   "cell_type": "code",
   "execution_count": 72,
   "metadata": {},
   "outputs": [
    {
     "data": {
      "image/png": "[encoded data removed]",
      "text/plain": [
       "<Figure size 432x288 with 1 Axes>"
      ]
     },
     "metadata": {
      "needs_background": "light"
     },
     "output_type": "display_data"
    }
   ],
   "source": [
    "# Plot probability distribution and confidence intervals\n",
    "dist_plot = MC_thirty_year.plot_distribution()"
   ]
  },
  {
   "cell_type": "markdown",
   "metadata": {},
   "source": [
    "**Retirement Analysis**"
   ]
  },
  {
   "cell_type": "code",
   "execution_count": 73,
   "metadata": {},
   "outputs": [
    {
     "name": "stdout",
     "output_type": "stream",
     "text": [
      "count           500.000000\n",
      "mean             12.762356\n",
      "std               9.463523\n",
      "min               1.379985\n",
      "25%               6.683822\n",
      "50%              10.208996\n",
      "75%              15.730670\n",
      "max              70.840417\n",
      "95% CI Lower      2.664994\n",
      "95% CI Upper     39.537763\n",
      "Name: 7560, dtype: float64\n"
     ]
    }
   ],
   "source": [
    "# Fetch summary statistics from the Monte Carlo simulation results\n",
    "tbl = MC_thirty_year.summarize_cumulative_return()\n",
    "\n",
    "# Print summary statistics\n",
    "print(tbl)    "
   ]
  },
  {
   "cell_type": "markdown",
   "metadata": {},
   "source": [
    "**Calculate the expected portfolio return at the 95% lower and upper confidence intervals based on a $20,000 initial investment.**"
   ]
  },
  {
   "cell_type": "code",
   "execution_count": 74,
   "metadata": {},
   "outputs": [
    {
     "name": "stdout",
     "output_type": "stream",
     "text": [
      "There is a 95% chance that an initial investment of 20000 will end within the range of $53299.87 to $790755.26 over the next 30 years.\n"
     ]
    }
   ],
   "source": [
    "# Set initial investment\n",
    "int_investment = 20000\n",
    "\n",
    "# Use the lower and upper `95%` confidence intervals to calculate the range of the possible outcomes of our $20,000\n",
    "CI_Lower = round(tbl[8] * int_investment,2)\n",
    "CI_Upper = round(tbl[9] * int_investment,2)\n",
    "\n",
    "#print(f\"There is a 95% chance that an initial investment of ${initial_investment} in the portfolio\"\n",
    "      #f\" over the next 30 years will end within in the range of\"\n",
    "      #f\" ${ci_lower} and ${ci_upper}\")\n",
    "print(f\"There is a 95% chance that an initial investment of {int_investment} will end within the range of ${CI_Lower} to ${CI_Upper} over the next 30 years.\")"
   ]
  },
  {
   "cell_type": "markdown",
   "metadata": {},
   "source": [
    "**Calculate the expected portfolio return at the 95% lower and upper confidence intervals based on a 50% increase in the initial investment.**"
   ]
  },
  {
   "cell_type": "code",
   "execution_count": 76,
   "metadata": {},
   "outputs": [
    {
     "name": "stdout",
     "output_type": "stream",
     "text": [
      "There is a 95% chance that an initial investment of 30000 will end within the range of $79949.81 to $1186132.89 over the next 30 years.\n"
     ]
    }
   ],
   "source": [
    "# Set initial investment\n",
    "initial_investment = 20000 * 1.5\n",
    "\n",
    "int_investment = 30000\n",
    "\n",
    "# Use the lower and upper `95%` confidence intervals to calculate the range of the possible outcomes of our $20,000\n",
    "CI_Lower = round(tbl[8] * int_investment,2)\n",
    "CI_Upper = round(tbl[9] * int_investment,2)\n",
    "\n",
    "#print(f\"There is a 95% chance that an initial investment of ${initial_investment} in the portfolio\"\n",
    "      #f\" over the next 30 years will end within in the range of\"\n",
    "      #f\" ${ci_lower} and ${ci_upper}\")\n",
    "print(f\"There is a 95% chance that an initial investment of {int_investment} will end within the range of ${CI_Lower} to ${CI_Upper} over the next 30 years.\")"
   ]
  },
  {
   "cell_type": "markdown",
   "metadata": {},
   "source": [
    "**Optional Challenge - Early Retirement**"
   ]
  },
  {
   "cell_type": "code",
   "execution_count": 53,
   "metadata": {},
   "outputs": [],
   "source": [
    "# Try adjusting the portfolio to either include more risk (a higher stock than bond ratio) or to have a larger initial investment and rerun the retirement analysis to see what it would take to retire in 5 or 10 years instead of 30!"
   ]
  },
  {
   "cell_type": "code",
   "execution_count": null,
   "metadata": {},
   "outputs": [],
   "source": []
  }
 ],
 "metadata": {
  "kernelspec": {
   "display_name": "Python 3",
   "language": "python",
   "name": "python3"
  },
  "language_info": {
   "codemirror_mode": {
    "name": "ipython",
    "version": 3
   },
   "file_extension": ".py",
   "mimetype": "text/x-python",
   "name": "python",
   "nbconvert_exporter": "python",
   "pygments_lexer": "ipython3",
   "version": "3.8.3"
  }
 },
 "nbformat": 4,
 "nbformat_minor": 4
}
